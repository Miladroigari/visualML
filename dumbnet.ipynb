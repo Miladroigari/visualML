{
  "nbformat": 4,
  "nbformat_minor": 0,
  "metadata": {
    "colab": {
      "name": "dumbnet.ipynb",
      "provenance": [],
      "collapsed_sections": []
    },
    "kernelspec": {
      "name": "python3",
      "display_name": "Python 3"
    }
  },
  "cells": [
    {
      "cell_type": "code",
      "metadata": {
        "id": "mvrTXF3NnMvX",
        "colab_type": "code",
        "colab": {}
      },
      "source": [
        "# We are about to make dumbest possible neural net. It will contain 1 neuron and no bias.\n",
        "# We will be optimizing grayscale pixel\n",
        "# Basically, this is more visual example for the simplest possible neural network from the book \"grokking deep learning\""
      ],
      "execution_count": 0,
      "outputs": []
    },
    {
      "cell_type": "code",
      "metadata": {
        "id": "FiZtTmwmn_o0",
        "colab_type": "code",
        "colab": {}
      },
      "source": [
        "import numpy as np\n",
        "from PIL import Image"
      ],
      "execution_count": 0,
      "outputs": []
    },
    {
      "cell_type": "code",
      "metadata": {
        "id": "OJPvlBv_npKb",
        "colab_type": "code",
        "outputId": "34e52342-7adb-43d5-c0b9-bf241fdaf114",
        "colab": {
          "base_uri": "https://localhost:8080/",
          "height": 273
        }
      },
      "source": [
        "# this is the target pixel. it is light gray\n",
        "target_pix = np.array([[220]])\n",
        "\n",
        "# let's visualize it. \n",
        "def show(im):\n",
        "  return Image.fromarray(im.astype('uint8')).resize((256, 256))\n",
        "  "
      ],
      "execution_count": 3,
      "outputs": [
        {
          "output_type": "execute_result",
          "data": {
            "image/png": "[encoded data removed]",
            "text/plain": [
              "<PIL.Image.Image image mode=L size=256x256 at 0x7F28DEB69908>"
            ]
          },
          "metadata": {
            "tags": []
          },
          "execution_count": 3
        }
      ]
    },
    {
      "cell_type": "code",
      "metadata": {
        "id": "oT1z8ih0oD8c",
        "colab_type": "code",
        "outputId": "cf6f0d06-142c-45b1-9f4a-77b3dd8d3292",
        "colab": {
          "base_uri": "https://localhost:8080/",
          "height": 273
        }
      },
      "source": [
        "# this is the input pixel, almost black\n",
        "\n",
        "input_pix = np.array([[10,]])\n",
        "\n",
        "show(input_pix)"
      ],
      "execution_count": 4,
      "outputs": [
        {
          "output_type": "execute_result",
          "data": {
            "image/png": "[encoded data removed]",
            "text/plain": [
              "<PIL.Image.Image image mode=L size=256x256 at 0x7F28DEB694E0>"
            ]
          },
          "metadata": {
            "tags": []
          },
          "execution_count": 4
        }
      ]
    },
    {
      "cell_type": "code",
      "metadata": {
        "id": "LPTDvxhbp6ux",
        "colab_type": "code",
        "outputId": "32903385-809f-4fcc-c22f-d2aed384e7f2",
        "colab": {
          "base_uri": "https://localhost:8080/",
          "height": 291
        }
      },
      "source": [
        "# let's make initial prediction. \n",
        "w_init = np.random.random()\n",
        "pred = input_pix * w_init\n",
        "err = ((pred - target_pix) ** 2).sum()  # square the error, so it's always positive\n",
        "print(\"Prediction: {}, Error: {}\".format(pred, err))\n",
        "\n",
        "# it's more black that the original! Bad!\n",
        "show(pred)"
      ],
      "execution_count": 5,
      "outputs": [
        {
          "output_type": "stream",
          "text": [
            "Prediction: [[5.95032651]], Error: 45817.26272043104\n"
          ],
          "name": "stdout"
        },
        {
          "output_type": "execute_result",
          "data": {
            "image/png": "[encoded data removed]",
            "text/plain": [
              "<PIL.Image.Image image mode=L size=256x256 at 0x7F28DEB69898>"
            ]
          },
          "metadata": {
            "tags": []
          },
          "execution_count": 5
        }
      ]
    },
    {
      "cell_type": "code",
      "metadata": {
        "id": "TD3ToB1NpXX8",
        "colab_type": "code",
        "outputId": "991dd9d3-6d94-4f0a-dbc0-185245e39a12",
        "colab": {
          "base_uri": "https://localhost:8080/",
          "height": 1000
        }
      },
      "source": [
        "# we'll be using hot-cold method \n",
        "# change weight a little, up and down, and see which way reduces error\n",
        "\n",
        "def learn_step(w, inp, goal, learning_rate=0.1):\n",
        "    lr = learning_rate\n",
        "    def get_err(w):\n",
        "        return ((inp * w - goal) ** 2).sum()\n",
        "    \n",
        "    err = get_err(w)\n",
        "    err_up = get_err(w + lr)\n",
        "    err_down = get_err(w - lr)\n",
        "    \n",
        "    if err_up < err_down:\n",
        "        w = w + lr\n",
        "        err = err_up\n",
        "    \n",
        "    else: \n",
        "      w = w - lr\n",
        "      err = err_down\n",
        "\n",
        "    return w, inp * w, err\n",
        "\n",
        "\n",
        "# let's learn! if everything is OK, error should decrease.\n",
        "preds = []\n",
        "w, pred, err = learn_step(w_init, input_pix, target_pix)\n",
        "for i in range(220):\n",
        "    w, pred, err = learn_step(w, input_pix, target_pix)\n",
        "    preds.append(pred)\n",
        "    print(\"Iteration {}. Weight: {}, Prediction: {}, Error: {}\".format(i, w, pred, err))\n"
      ],
      "execution_count": 6,
      "outputs": [
        {
          "output_type": "stream",
          "text": [
            "Iteration 0. Weight: 0.7950326511739242, Prediction: [[7.95032651]], Error: 44965.064026478\n",
            "Iteration 1. Weight: 0.8950326511739242, Prediction: [[8.95032651]], Error: 44541.96467950148\n",
            "Iteration 2. Weight: 0.9950326511739241, Prediction: [[9.95032651]], Error: 44120.865332524954\n",
            "Iteration 3. Weight: 1.0950326511739241, Prediction: [[10.95032651]], Error: 43701.76598554844\n",
            "Iteration 4. Weight: 1.1950326511739242, Prediction: [[11.95032651]], Error: 43284.666638571915\n",
            "Iteration 5. Weight: 1.2950326511739243, Prediction: [[12.95032651]], Error: 42869.56729159539\n",
            "Iteration 6. Weight: 1.3950326511739244, Prediction: [[13.95032651]], Error: 42456.467944618875\n",
            "Iteration 7. Weight: 1.4950326511739245, Prediction: [[14.95032651]], Error: 42045.36859764235\n",
            "Iteration 8. Weight: 1.5950326511739246, Prediction: [[15.95032651]], Error: 41636.26925066583\n",
            "Iteration 9. Weight: 1.6950326511739247, Prediction: [[16.95032651]], Error: 41229.169903689304\n",
            "Iteration 10. Weight: 1.7950326511739247, Prediction: [[17.95032651]], Error: 40824.07055671277\n",
            "Iteration 11. Weight: 1.8950326511739248, Prediction: [[18.95032651]], Error: 40420.97120973625\n",
            "Iteration 12. Weight: 1.995032651173925, Prediction: [[19.95032651]], Error: 40019.87186275973\n",
            "Iteration 13. Weight: 2.095032651173925, Prediction: [[20.95032651]], Error: 39620.77251578321\n",
            "Iteration 14. Weight: 2.195032651173925, Prediction: [[21.95032651]], Error: 39223.67316880669\n",
            "Iteration 15. Weight: 2.295032651173925, Prediction: [[22.95032651]], Error: 38828.57382183016\n",
            "Iteration 16. Weight: 2.395032651173925, Prediction: [[23.95032651]], Error: 38435.47447485365\n",
            "Iteration 17. Weight: 2.495032651173925, Prediction: [[24.95032651]], Error: 38044.37512787712\n",
            "Iteration 18. Weight: 2.5950326511739252, Prediction: [[25.95032651]], Error: 37655.2757809006\n",
            "Iteration 19. Weight: 2.6950326511739253, Prediction: [[26.95032651]], Error: 37268.17643392408\n",
            "Iteration 20. Weight: 2.7950326511739254, Prediction: [[27.95032651]], Error: 36883.07708694756\n",
            "Iteration 21. Weight: 2.8950326511739255, Prediction: [[28.95032651]], Error: 36499.97773997104\n",
            "Iteration 22. Weight: 2.9950326511739256, Prediction: [[29.95032651]], Error: 36118.87839299451\n",
            "Iteration 23. Weight: 3.0950326511739257, Prediction: [[30.95032651]], Error: 35739.779046018\n",
            "Iteration 24. Weight: 3.1950326511739258, Prediction: [[31.95032651]], Error: 35362.67969904147\n",
            "Iteration 25. Weight: 3.295032651173926, Prediction: [[32.95032651]], Error: 34987.58035206495\n",
            "Iteration 26. Weight: 3.395032651173926, Prediction: [[33.95032651]], Error: 34614.48100508843\n",
            "Iteration 27. Weight: 3.495032651173926, Prediction: [[34.95032651]], Error: 34243.38165811191\n",
            "Iteration 28. Weight: 3.595032651173926, Prediction: [[35.95032651]], Error: 33874.28231113539\n",
            "Iteration 29. Weight: 3.695032651173926, Prediction: [[36.95032651]], Error: 33507.18296415886\n",
            "Iteration 30. Weight: 3.7950326511739263, Prediction: [[37.95032651]], Error: 33142.08361718235\n",
            "Iteration 31. Weight: 3.8950326511739264, Prediction: [[38.95032651]], Error: 32778.98427020582\n",
            "Iteration 32. Weight: 3.9950326511739265, Prediction: [[39.95032651]], Error: 32417.8849232293\n",
            "Iteration 33. Weight: 4.095032651173926, Prediction: [[40.95032651]], Error: 32058.78557625278\n",
            "Iteration 34. Weight: 4.195032651173926, Prediction: [[41.95032651]], Error: 31701.68622927626\n",
            "Iteration 35. Weight: 4.295032651173925, Prediction: [[42.95032651]], Error: 31346.586882299736\n",
            "Iteration 36. Weight: 4.395032651173925, Prediction: [[43.95032651]], Error: 30993.487535323216\n",
            "Iteration 37. Weight: 4.495032651173925, Prediction: [[44.95032651]], Error: 30642.388188346693\n",
            "Iteration 38. Weight: 4.595032651173924, Prediction: [[45.95032651]], Error: 30293.288841370184\n",
            "Iteration 39. Weight: 4.695032651173924, Prediction: [[46.95032651]], Error: 29946.18949439366\n",
            "Iteration 40. Weight: 4.795032651173924, Prediction: [[47.95032651]], Error: 29601.09014741714\n",
            "Iteration 41. Weight: 4.895032651173923, Prediction: [[48.95032651]], Error: 29257.990800440617\n",
            "Iteration 42. Weight: 4.995032651173923, Prediction: [[49.95032651]], Error: 28916.891453464097\n",
            "Iteration 43. Weight: 5.095032651173923, Prediction: [[50.95032651]], Error: 28577.792106487574\n",
            "Iteration 44. Weight: 5.195032651173922, Prediction: [[51.95032651]], Error: 28240.69275951106\n",
            "Iteration 45. Weight: 5.295032651173922, Prediction: [[52.95032651]], Error: 27905.59341253454\n",
            "Iteration 46. Weight: 5.3950326511739215, Prediction: [[53.95032651]], Error: 27572.49406555802\n",
            "Iteration 47. Weight: 5.495032651173921, Prediction: [[54.95032651]], Error: 27241.394718581498\n",
            "Iteration 48. Weight: 5.595032651173921, Prediction: [[55.95032651]], Error: 26912.295371604978\n",
            "Iteration 49. Weight: 5.69503265117392, Prediction: [[56.95032651]], Error: 26585.196024628454\n",
            "Iteration 50. Weight: 5.79503265117392, Prediction: [[57.95032651]], Error: 26260.096677651934\n",
            "Iteration 51. Weight: 5.89503265117392, Prediction: [[58.95032651]], Error: 25936.99733067541\n",
            "Iteration 52. Weight: 5.995032651173919, Prediction: [[59.95032651]], Error: 25615.89798369889\n",
            "Iteration 53. Weight: 6.095032651173919, Prediction: [[60.95032651]], Error: 25296.798636722368\n",
            "Iteration 54. Weight: 6.195032651173919, Prediction: [[61.95032651]], Error: 24979.699289745855\n",
            "Iteration 55. Weight: 6.295032651173918, Prediction: [[62.95032651]], Error: 24664.599942769335\n",
            "Iteration 56. Weight: 6.395032651173918, Prediction: [[63.95032651]], Error: 24351.50059579281\n",
            "Iteration 57. Weight: 6.495032651173918, Prediction: [[64.95032651]], Error: 24040.40124881629\n",
            "Iteration 58. Weight: 6.595032651173917, Prediction: [[65.95032651]], Error: 23731.301901839768\n",
            "Iteration 59. Weight: 6.695032651173917, Prediction: [[66.95032651]], Error: 23424.202554863256\n",
            "Iteration 60. Weight: 6.7950326511739165, Prediction: [[67.95032651]], Error: 23119.103207886736\n",
            "Iteration 61. Weight: 6.895032651173916, Prediction: [[68.95032651]], Error: 22816.003860910212\n",
            "Iteration 62. Weight: 6.995032651173916, Prediction: [[69.95032651]], Error: 22514.904513933692\n",
            "Iteration 63. Weight: 7.0950326511739155, Prediction: [[70.95032651]], Error: 22215.80516695717\n",
            "Iteration 64. Weight: 7.195032651173915, Prediction: [[71.95032651]], Error: 21918.70581998065\n",
            "Iteration 65. Weight: 7.295032651173915, Prediction: [[72.95032651]], Error: 21623.606473004125\n",
            "Iteration 66. Weight: 7.395032651173914, Prediction: [[73.95032651]], Error: 21330.507126027605\n",
            "Iteration 67. Weight: 7.495032651173914, Prediction: [[74.95032651]], Error: 21039.407779051082\n",
            "Iteration 68. Weight: 7.595032651173914, Prediction: [[75.95032651]], Error: 20750.308432074562\n",
            "Iteration 69. Weight: 7.695032651173913, Prediction: [[76.95032651]], Error: 20463.20908509804\n",
            "Iteration 70. Weight: 7.795032651173913, Prediction: [[77.95032651]], Error: 20178.10973812152\n",
            "Iteration 71. Weight: 7.895032651173913, Prediction: [[78.95032651]], Error: 19895.010391145002\n",
            "Iteration 72. Weight: 7.995032651173912, Prediction: [[79.95032651]], Error: 19613.911044168482\n",
            "Iteration 73. Weight: 8.095032651173913, Prediction: [[80.95032651]], Error: 19334.81169719196\n",
            "Iteration 74. Weight: 8.195032651173912, Prediction: [[81.95032651]], Error: 19057.71235021544\n",
            "Iteration 75. Weight: 8.295032651173912, Prediction: [[82.95032651]], Error: 18782.613003238916\n",
            "Iteration 76. Weight: 8.395032651173912, Prediction: [[83.95032651]], Error: 18509.513656262396\n",
            "Iteration 77. Weight: 8.495032651173911, Prediction: [[84.95032651]], Error: 18238.414309285872\n",
            "Iteration 78. Weight: 8.595032651173911, Prediction: [[85.95032651]], Error: 17969.31496230936\n",
            "Iteration 79. Weight: 8.69503265117391, Prediction: [[86.95032651]], Error: 17702.215615332836\n",
            "Iteration 80. Weight: 8.79503265117391, Prediction: [[87.95032651]], Error: 17437.116268356316\n",
            "Iteration 81. Weight: 8.89503265117391, Prediction: [[88.95032651]], Error: 17174.016921379793\n",
            "Iteration 82. Weight: 8.99503265117391, Prediction: [[89.95032651]], Error: 16912.917574403273\n",
            "Iteration 83. Weight: 9.09503265117391, Prediction: [[90.95032651]], Error: 16653.81822742675\n",
            "Iteration 84. Weight: 9.195032651173909, Prediction: [[91.95032651]], Error: 16396.71888045023\n",
            "Iteration 85. Weight: 9.295032651173909, Prediction: [[92.95032651]], Error: 16141.619533473706\n",
            "Iteration 86. Weight: 9.395032651173908, Prediction: [[93.95032651]], Error: 15888.520186497188\n",
            "Iteration 87. Weight: 9.495032651173908, Prediction: [[94.95032651]], Error: 15637.420839520666\n",
            "Iteration 88. Weight: 9.595032651173907, Prediction: [[95.95032651]], Error: 15388.321492544144\n",
            "Iteration 89. Weight: 9.695032651173907, Prediction: [[96.95032651]], Error: 15141.222145567626\n",
            "Iteration 90. Weight: 9.795032651173907, Prediction: [[97.95032651]], Error: 14896.122798591105\n",
            "Iteration 91. Weight: 9.895032651173906, Prediction: [[98.95032651]], Error: 14653.023451614583\n",
            "Iteration 92. Weight: 9.995032651173906, Prediction: [[99.95032651]], Error: 14411.924104638061\n",
            "Iteration 93. Weight: 10.095032651173906, Prediction: [[100.95032651]], Error: 14172.82475766154\n",
            "Iteration 94. Weight: 10.195032651173905, Prediction: [[101.95032651]], Error: 13935.72541068502\n",
            "Iteration 95. Weight: 10.295032651173905, Prediction: [[102.95032651]], Error: 13700.626063708498\n",
            "Iteration 96. Weight: 10.395032651173905, Prediction: [[103.95032651]], Error: 13467.526716731976\n",
            "Iteration 97. Weight: 10.495032651173904, Prediction: [[104.95032651]], Error: 13236.427369755458\n",
            "Iteration 98. Weight: 10.595032651173904, Prediction: [[105.95032651]], Error: 13007.328022778936\n",
            "Iteration 99. Weight: 10.695032651173904, Prediction: [[106.95032651]], Error: 12780.228675802415\n",
            "Iteration 100. Weight: 10.795032651173903, Prediction: [[107.95032651]], Error: 12555.129328825891\n",
            "Iteration 101. Weight: 10.895032651173903, Prediction: [[108.95032651]], Error: 12332.02998184937\n",
            "Iteration 102. Weight: 10.995032651173902, Prediction: [[109.95032651]], Error: 12110.930634872851\n",
            "Iteration 103. Weight: 11.095032651173902, Prediction: [[110.95032651]], Error: 11891.83128789633\n",
            "Iteration 104. Weight: 11.195032651173902, Prediction: [[111.95032651]], Error: 11674.731940919808\n",
            "Iteration 105. Weight: 11.295032651173901, Prediction: [[112.95032651]], Error: 11459.632593943288\n",
            "Iteration 106. Weight: 11.395032651173901, Prediction: [[113.95032651]], Error: 11246.533246966766\n",
            "Iteration 107. Weight: 11.4950326511739, Prediction: [[114.95032651]], Error: 11035.433899990245\n",
            "Iteration 108. Weight: 11.5950326511739, Prediction: [[115.95032651]], Error: 10826.334553013723\n",
            "Iteration 109. Weight: 11.6950326511739, Prediction: [[116.95032651]], Error: 10619.235206037201\n",
            "Iteration 110. Weight: 11.7950326511739, Prediction: [[117.95032651]], Error: 10414.135859060681\n",
            "Iteration 111. Weight: 11.8950326511739, Prediction: [[118.95032651]], Error: 10211.03651208416\n",
            "Iteration 112. Weight: 11.995032651173899, Prediction: [[119.95032651]], Error: 10009.937165107638\n",
            "Iteration 113. Weight: 12.095032651173899, Prediction: [[120.95032651]], Error: 9810.837818131118\n",
            "Iteration 114. Weight: 12.195032651173898, Prediction: [[121.95032651]], Error: 9613.738471154596\n",
            "Iteration 115. Weight: 12.295032651173898, Prediction: [[122.95032651]], Error: 9418.639124178075\n",
            "Iteration 116. Weight: 12.395032651173898, Prediction: [[123.95032651]], Error: 9225.539777201551\n",
            "Iteration 117. Weight: 12.495032651173897, Prediction: [[124.95032651]], Error: 9034.44043022503\n",
            "Iteration 118. Weight: 12.595032651173897, Prediction: [[125.95032651]], Error: 8845.341083248511\n",
            "Iteration 119. Weight: 12.695032651173896, Prediction: [[126.95032651]], Error: 8658.241736271988\n",
            "Iteration 120. Weight: 12.795032651173896, Prediction: [[127.95032651]], Error: 8473.142389295466\n",
            "Iteration 121. Weight: 12.895032651173896, Prediction: [[128.95032651]], Error: 8290.043042318946\n",
            "Iteration 122. Weight: 12.995032651173895, Prediction: [[129.95032651]], Error: 8108.943695342425\n",
            "Iteration 123. Weight: 13.095032651173895, Prediction: [[130.95032651]], Error: 7929.844348365903\n",
            "Iteration 124. Weight: 13.195032651173895, Prediction: [[131.95032651]], Error: 7752.74500138938\n",
            "Iteration 125. Weight: 13.295032651173894, Prediction: [[132.95032651]], Error: 7577.645654412859\n",
            "Iteration 126. Weight: 13.395032651173894, Prediction: [[133.95032651]], Error: 7404.546307436337\n",
            "Iteration 127. Weight: 13.495032651173894, Prediction: [[134.95032651]], Error: 7233.446960459819\n",
            "Iteration 128. Weight: 13.595032651173893, Prediction: [[135.95032651]], Error: 7064.347613483297\n",
            "Iteration 129. Weight: 13.695032651173893, Prediction: [[136.95032651]], Error: 6897.248266506775\n",
            "Iteration 130. Weight: 13.795032651173893, Prediction: [[137.95032651]], Error: 6732.148919530253\n",
            "Iteration 131. Weight: 13.895032651173892, Prediction: [[138.95032651]], Error: 6569.04957255373\n",
            "Iteration 132. Weight: 13.995032651173892, Prediction: [[139.95032651]], Error: 6407.950225577209\n",
            "Iteration 133. Weight: 14.095032651173891, Prediction: [[140.95032651]], Error: 6248.850878600686\n",
            "Iteration 134. Weight: 14.195032651173891, Prediction: [[141.95032651]], Error: 6091.751531624164\n",
            "Iteration 135. Weight: 14.29503265117389, Prediction: [[142.95032651]], Error: 5936.652184647642\n",
            "Iteration 136. Weight: 14.39503265117389, Prediction: [[143.95032651]], Error: 5783.5528376711245\n",
            "Iteration 137. Weight: 14.49503265117389, Prediction: [[144.95032651]], Error: 5632.453490694602\n",
            "Iteration 138. Weight: 14.59503265117389, Prediction: [[145.95032651]], Error: 5483.35414371808\n",
            "Iteration 139. Weight: 14.69503265117389, Prediction: [[146.95032651]], Error: 5336.254796741558\n",
            "Iteration 140. Weight: 14.795032651173889, Prediction: [[147.95032651]], Error: 5191.155449765035\n",
            "Iteration 141. Weight: 14.895032651173889, Prediction: [[148.95032651]], Error: 5048.056102788513\n",
            "Iteration 142. Weight: 14.995032651173888, Prediction: [[149.95032651]], Error: 4906.956755811991\n",
            "Iteration 143. Weight: 15.095032651173888, Prediction: [[150.95032651]], Error: 4767.857408835473\n",
            "Iteration 144. Weight: 15.195032651173888, Prediction: [[151.95032651]], Error: 4630.75806185895\n",
            "Iteration 145. Weight: 15.295032651173887, Prediction: [[152.95032651]], Error: 4495.658714882428\n",
            "Iteration 146. Weight: 15.395032651173887, Prediction: [[153.95032651]], Error: 4362.559367905906\n",
            "Iteration 147. Weight: 15.495032651173887, Prediction: [[154.95032651]], Error: 4231.460020929384\n",
            "Iteration 148. Weight: 15.595032651173886, Prediction: [[155.95032651]], Error: 4102.360673952861\n",
            "Iteration 149. Weight: 15.695032651173886, Prediction: [[156.95032651]], Error: 3975.261326976339\n",
            "Iteration 150. Weight: 15.795032651173885, Prediction: [[157.95032651]], Error: 3850.1619799998166\n",
            "Iteration 151. Weight: 15.895032651173885, Prediction: [[158.95032651]], Error: 3727.0626330232944\n",
            "Iteration 152. Weight: 15.995032651173885, Prediction: [[159.95032651]], Error: 3605.9632860467755\n",
            "Iteration 153. Weight: 16.095032651173884, Prediction: [[160.95032651]], Error: 3486.8639390702533\n",
            "Iteration 154. Weight: 16.195032651173886, Prediction: [[161.95032651]], Error: 3369.7645920937275\n",
            "Iteration 155. Weight: 16.295032651173887, Prediction: [[162.95032651]], Error: 3254.6652451172054\n",
            "Iteration 156. Weight: 16.39503265117389, Prediction: [[163.95032651]], Error: 3141.56589814068\n",
            "Iteration 157. Weight: 16.49503265117389, Prediction: [[164.95032651]], Error: 3030.466551164158\n",
            "Iteration 158. Weight: 16.59503265117389, Prediction: [[165.95032651]], Error: 2921.3672041876325\n",
            "Iteration 159. Weight: 16.695032651173893, Prediction: [[166.95032651]], Error: 2814.2678572111104\n",
            "Iteration 160. Weight: 16.795032651173894, Prediction: [[167.95032651]], Error: 2709.168510234585\n",
            "Iteration 161. Weight: 16.895032651173896, Prediction: [[168.95032651]], Error: 2606.069163258063\n",
            "Iteration 162. Weight: 16.995032651173897, Prediction: [[169.95032651]], Error: 2504.969816281538\n",
            "Iteration 163. Weight: 17.0950326511739, Prediction: [[170.95032651]], Error: 2405.8704693050163\n",
            "Iteration 164. Weight: 17.1950326511739, Prediction: [[171.95032651]], Error: 2308.7711223284914\n",
            "Iteration 165. Weight: 17.2950326511739, Prediction: [[172.95032651]], Error: 2213.6717753519692\n",
            "Iteration 166. Weight: 17.395032651173903, Prediction: [[173.95032651]], Error: 2120.572428375445\n",
            "Iteration 167. Weight: 17.495032651173904, Prediction: [[174.95032651]], Error: 2029.473081398923\n",
            "Iteration 168. Weight: 17.595032651173906, Prediction: [[175.95032651]], Error: 1940.3737344223985\n",
            "Iteration 169. Weight: 17.695032651173907, Prediction: [[176.95032651]], Error: 1853.2743874458765\n",
            "Iteration 170. Weight: 17.79503265117391, Prediction: [[177.95032651]], Error: 1768.1750404693523\n",
            "Iteration 171. Weight: 17.89503265117391, Prediction: [[178.95032651]], Error: 1685.0756934928304\n",
            "Iteration 172. Weight: 17.99503265117391, Prediction: [[179.95032651]], Error: 1603.9763465163064\n",
            "Iteration 173. Weight: 18.095032651173913, Prediction: [[180.95032651]], Error: 1524.8769995397845\n",
            "Iteration 174. Weight: 18.195032651173914, Prediction: [[181.95032651]], Error: 1447.7776525632607\n",
            "Iteration 175. Weight: 18.295032651173916, Prediction: [[182.95032651]], Error: 1372.678305586739\n",
            "Iteration 176. Weight: 18.395032651173917, Prediction: [[183.95032651]], Error: 1299.5789586102153\n",
            "Iteration 177. Weight: 18.49503265117392, Prediction: [[184.95032651]], Error: 1228.4796116336936\n",
            "Iteration 178. Weight: 18.59503265117392, Prediction: [[185.95032651]], Error: 1159.38026465717\n",
            "Iteration 179. Weight: 18.69503265117392, Prediction: [[186.95032651]], Error: 1092.2809176806484\n",
            "Iteration 180. Weight: 18.795032651173923, Prediction: [[187.95032651]], Error: 1027.181570704125\n",
            "Iteration 181. Weight: 18.895032651173924, Prediction: [[188.95032651]], Error: 964.0822237276035\n",
            "Iteration 182. Weight: 18.995032651173926, Prediction: [[189.95032651]], Error: 902.9828767510802\n",
            "Iteration 183. Weight: 19.095032651173927, Prediction: [[190.95032651]], Error: 843.8835297745587\n",
            "Iteration 184. Weight: 19.19503265117393, Prediction: [[191.95032651]], Error: 786.7841827980357\n",
            "Iteration 185. Weight: 19.29503265117393, Prediction: [[192.95032651]], Error: 731.6848358215143\n",
            "Iteration 186. Weight: 19.39503265117393, Prediction: [[193.95032651]], Error: 678.5854888449913\n",
            "Iteration 187. Weight: 19.495032651173933, Prediction: [[194.95032651]], Error: 627.48614186847\n",
            "Iteration 188. Weight: 19.595032651173934, Prediction: [[195.95032651]], Error: 578.3867948919473\n",
            "Iteration 189. Weight: 19.695032651173936, Prediction: [[196.95032651]], Error: 531.287447915426\n",
            "Iteration 190. Weight: 19.795032651173937, Prediction: [[197.95032651]], Error: 486.1881009389034\n",
            "Iteration 191. Weight: 19.89503265117394, Prediction: [[198.95032651]], Error: 443.08875396238216\n",
            "Iteration 192. Weight: 19.99503265117394, Prediction: [[199.95032651]], Error: 401.9894069858598\n",
            "Iteration 193. Weight: 20.09503265117394, Prediction: [[200.95032651]], Error: 362.8900600093386\n",
            "Iteration 194. Weight: 20.195032651173943, Prediction: [[201.95032651]], Error: 325.79071303281637\n",
            "Iteration 195. Weight: 20.295032651173944, Prediction: [[202.95032651]], Error: 290.69136605629524\n",
            "Iteration 196. Weight: 20.395032651173945, Prediction: [[203.95032651]], Error: 257.5920190797732\n",
            "Iteration 197. Weight: 20.495032651173947, Prediction: [[204.95032651]], Error: 226.49267210325212\n",
            "Iteration 198. Weight: 20.59503265117395, Prediction: [[205.95032651]], Error: 197.39332512673025\n",
            "Iteration 199. Weight: 20.69503265117395, Prediction: [[206.95032651]], Error: 170.29397815020923\n",
            "Iteration 200. Weight: 20.79503265117395, Prediction: [[207.95032651]], Error: 145.19463117368753\n",
            "Iteration 201. Weight: 20.895032651173953, Prediction: [[208.95032651]], Error: 122.09528419716655\n",
            "Iteration 202. Weight: 20.995032651173954, Prediction: [[209.95032651]], Error: 100.99593722064502\n",
            "Iteration 203. Weight: 21.095032651173955, Prediction: [[210.95032651]], Error: 81.89659024412411\n",
            "Iteration 204. Weight: 21.195032651173957, Prediction: [[211.95032651]], Error: 64.79724326760275\n",
            "Iteration 205. Weight: 21.29503265117396, Prediction: [[212.95032651]], Error: 49.6978962910819\n",
            "Iteration 206. Weight: 21.39503265117396, Prediction: [[213.95032651]], Error: 36.59854931456071\n",
            "Iteration 207. Weight: 21.49503265117396, Prediction: [[214.95032651]], Error: 25.499202338039915\n",
            "Iteration 208. Weight: 21.595032651173963, Prediction: [[215.95032651]], Error: 16.399855361518892\n",
            "Iteration 209. Weight: 21.695032651173964, Prediction: [[216.95032651]], Error: 9.300508384998158\n",
            "Iteration 210. Weight: 21.795032651173965, Prediction: [[217.95032651]], Error: 4.201161408477306\n",
            "Iteration 211. Weight: 21.895032651173967, Prediction: [[218.95032651]], Error: 1.1018144319566283\n",
            "Iteration 212. Weight: 21.995032651173968, Prediction: [[219.95032651]], Error: 0.0024674554359472253\n",
            "Iteration 213. Weight: 22.09503265117397, Prediction: [[220.95032651]], Error: 0.9031204789153258\n",
            "Iteration 214. Weight: 21.995032651173968, Prediction: [[219.95032651]], Error: 0.0024674554359472253\n",
            "Iteration 215. Weight: 22.09503265117397, Prediction: [[220.95032651]], Error: 0.9031204789153258\n",
            "Iteration 216. Weight: 21.995032651173968, Prediction: [[219.95032651]], Error: 0.0024674554359472253\n",
            "Iteration 217. Weight: 22.09503265117397, Prediction: [[220.95032651]], Error: 0.9031204789153258\n",
            "Iteration 218. Weight: 21.995032651173968, Prediction: [[219.95032651]], Error: 0.0024674554359472253\n",
            "Iteration 219. Weight: 22.09503265117397, Prediction: [[220.95032651]], Error: 0.9031204789153258\n"
          ],
          "name": "stdout"
        }
      ]
    },
    {
      "cell_type": "code",
      "metadata": {
        "id": "q0ZnR5lQtP6-",
        "colab_type": "code",
        "outputId": "713113b8-6707-4538-b4dd-8f9b9a6403f0",
        "colab": {
          "base_uri": "https://localhost:8080/",
          "height": 273
        }
      },
      "source": [
        "# let's look at our learned pixel:\n",
        "show(pred)  # not bad!"
      ],
      "execution_count": 7,
      "outputs": [
        {
          "output_type": "execute_result",
          "data": {
            "image/png": "[encoded data removed]",
            "text/plain": [
              "<PIL.Image.Image image mode=L size=256x256 at 0x7F28DF3C6F98>"
            ]
          },
          "metadata": {
            "tags": []
          },
          "execution_count": 7
        }
      ]
    },
    {
      "cell_type": "code",
      "metadata": {
        "id": "LcL_YwMks4ay",
        "colab_type": "code",
        "colab": {
          "base_uri": "https://localhost:8080/",
          "height": 276
        },
        "outputId": "79c66ac0-caa8-49c4-cc8d-396b5414188c"
      },
      "source": [
        "# thats all folks!\n",
        "from IPython.display import HTML\n",
        "\n",
        "HTML(\"\"\"<img src=\"https://i.imgur.com/tY3GksS.gif\">\n",
        "\"\"\")"
      ],
      "execution_count": 20,
      "outputs": [
        {
          "output_type": "execute_result",
          "data": {
            "text/html": [
              "<img src=\"https://i.imgur.com/tY3GksS.gif\">\n"
            ],
            "text/plain": [
              "<IPython.core.display.HTML object>"
            ]
          },
          "metadata": {
            "tags": []
          },
          "execution_count": 20
        }
      ]
    }
  ]
}