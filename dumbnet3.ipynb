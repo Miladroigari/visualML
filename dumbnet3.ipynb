{
 "cells": [
  {
   "cell_type": "code",
   "execution_count": 3,
   "metadata": {
    "colab": {},
    "colab_type": "code",
    "id": "mvrTXF3NnMvX"
   },
   "outputs": [],
   "source": [
    "# We are about to make dumbest possible neural net. It will contain 1 neuron and no bias.\n",
    "# We will be optimizing grayscale pixel\n",
    "# Basically, this is more visual example for the simplest possible neural network from the book \"grokking deep learning\""
   ]
  },
  {
   "cell_type": "code",
   "execution_count": 5,
   "metadata": {},
   "outputs": [
    {
     "name": "stdout",
     "output_type": "stream",
     "text": [
      "Collecting pillow\n",
      "  Downloading Pillow-7.0.0-cp36-cp36m-manylinux1_x86_64.whl (2.1 MB)\n",
      "\u001b[K     |████████████████████████████████| 2.1 MB 646 kB/s eta 0:00:01\n",
      "\u001b[?25hInstalling collected packages: pillow\n",
      "Successfully installed pillow-7.0.0\n"
     ]
    }
   ],
   "source": [
    "!pip install pillow\n"
   ]
  },
  {
   "cell_type": "code",
   "execution_count": 7,
   "metadata": {
    "colab": {},
    "colab_type": "code",
    "id": "FiZtTmwmn_o0"
   },
   "outputs": [],
   "source": [
    "import numpy as np\n",
    "from PIL import Image"
   ]
  },
  {
   "cell_type": "code",
   "execution_count": 8,
   "metadata": {
    "colab": {
     "base_uri": "https://localhost:8080/",
     "height": 273
    },
    "colab_type": "code",
    "id": "OJPvlBv_npKb",
    "outputId": "34e52342-7adb-43d5-c0b9-bf241fdaf114"
   },
   "outputs": [],
   "source": [
    "# this is the target pixel. it is light gray\n",
    "target_pix = np.array([[220]])\n",
    "\n",
    "# let's visualize it. \n",
    "def show(im):\n",
    "  return Image.fromarray(im.astype('uint8')).resize((256, 256))\n",
    "  "
   ]
  },
  {
   "cell_type": "code",
   "execution_count": 9,
   "metadata": {
    "colab": {
     "base_uri": "https://localhost:8080/",
     "height": 273
    },
    "colab_type": "code",
    "id": "oT1z8ih0oD8c",
    "outputId": "cf6f0d06-142c-45b1-9f4a-77b3dd8d3292"
   },
   "outputs": [
    {
     "data": {
      "image/png": "[encoded data removed]",
      "text/plain": [
       "<PIL.Image.Image image mode=L size=256x256 at 0x7FF00C08B828>"
      ]
     },
     "execution_count": 9,
     "metadata": {},
     "output_type": "execute_result"
    }
   ],
   "source": [
    "# this is the input pixel, almost black\n",
    "\n",
    "input_pix = np.array([[10,]])\n",
    "\n",
    "show(input_pix)"
   ]
  },
  {
   "cell_type": "code",
   "execution_count": 10,
   "metadata": {
    "colab": {
     "base_uri": "https://localhost:8080/",
     "height": 291
    },
    "colab_type": "code",
    "id": "LPTDvxhbp6ux",
    "outputId": "32903385-809f-4fcc-c22f-d2aed384e7f2"
   },
   "outputs": [
    {
     "name": "stdout",
     "output_type": "stream",
     "text": [
      "Prediction: [[3.63132044]], Error: 46815.40549321914\n"
     ]
    },
    {
     "data": {
      "image/png": "[encoded data removed]",
      "text/plain": [
       "<PIL.Image.Image image mode=L size=256x256 at 0x7FF001E4DB00>"
      ]
     },
     "execution_count": 10,
     "metadata": {},
     "output_type": "execute_result"
    }
   ],
   "source": [
    "# let's make initial prediction. \n",
    "w_init = np.random.random()\n",
    "pred = input_pix * w_init\n",
    "err = ((pred - target_pix) ** 2).sum()  # square the error, so it's always positive\n",
    "print(\"Prediction: {}, Error: {}\".format(pred, err))\n",
    "\n",
    "# it's more black that the original! Bad!\n",
    "show(pred)"
   ]
  },
  {
   "cell_type": "code",
   "execution_count": 11,
   "metadata": {
    "colab": {
     "base_uri": "https://localhost:8080/",
     "height": 1000
    },
    "colab_type": "code",
    "id": "TD3ToB1NpXX8",
    "outputId": "991dd9d3-6d94-4f0a-dbc0-185245e39a12"
   },
   "outputs": [
    {
     "name": "stdout",
     "output_type": "stream",
     "text": [
      "Iteration 0. Weight: 0.5631320443047622, Prediction: [[5.63132044]], Error: 45953.93077499133\n",
      "Iteration 1. Weight: 0.6631320443047621, Prediction: [[6.63132044]], Error: 45526.193415877424\n",
      "Iteration 2. Weight: 0.7631320443047621, Prediction: [[7.63132044]], Error: 45100.45605676352\n",
      "Iteration 3. Weight: 0.8631320443047621, Prediction: [[8.63132044]], Error: 44676.718697649616\n",
      "Iteration 4. Weight: 0.9631320443047621, Prediction: [[9.63132044]], Error: 44254.98133853571\n",
      "Iteration 5. Weight: 1.063132044304762, Prediction: [[10.63132044]], Error: 43835.24397942181\n",
      "Iteration 6. Weight: 1.1631320443047621, Prediction: [[11.63132044]], Error: 43417.506620307904\n",
      "Iteration 7. Weight: 1.2631320443047622, Prediction: [[12.63132044]], Error: 43001.769261194\n",
      "Iteration 8. Weight: 1.3631320443047623, Prediction: [[13.63132044]], Error: 42588.03190208009\n",
      "Iteration 9. Weight: 1.4631320443047624, Prediction: [[14.63132044]], Error: 42176.294542966185\n",
      "Iteration 10. Weight: 1.5631320443047625, Prediction: [[15.63132044]], Error: 41766.55718385228\n",
      "Iteration 11. Weight: 1.6631320443047626, Prediction: [[16.63132044]], Error: 41358.81982473838\n",
      "Iteration 12. Weight: 1.7631320443047627, Prediction: [[17.63132044]], Error: 40953.08246562447\n",
      "Iteration 13. Weight: 1.8631320443047628, Prediction: [[18.63132044]], Error: 40549.34510651057\n",
      "Iteration 14. Weight: 1.9631320443047628, Prediction: [[19.63132044]], Error: 40147.607747396665\n",
      "Iteration 15. Weight: 2.063132044304763, Prediction: [[20.63132044]], Error: 39747.87038828276\n",
      "Iteration 16. Weight: 2.163132044304763, Prediction: [[21.63132044]], Error: 39350.13302916886\n",
      "Iteration 17. Weight: 2.263132044304763, Prediction: [[22.63132044]], Error: 38954.395670054946\n",
      "Iteration 18. Weight: 2.363132044304763, Prediction: [[23.63132044]], Error: 38560.65831094104\n",
      "Iteration 19. Weight: 2.4631320443047633, Prediction: [[24.63132044]], Error: 38168.92095182714\n",
      "Iteration 20. Weight: 2.5631320443047634, Prediction: [[25.63132044]], Error: 37779.183592713234\n",
      "Iteration 21. Weight: 2.6631320443047635, Prediction: [[26.63132044]], Error: 37391.44623359933\n",
      "Iteration 22. Weight: 2.7631320443047636, Prediction: [[27.63132044]], Error: 37005.708874485426\n",
      "Iteration 23. Weight: 2.8631320443047636, Prediction: [[28.63132044]], Error: 36621.97151537152\n",
      "Iteration 24. Weight: 2.9631320443047637, Prediction: [[29.63132044]], Error: 36240.23415625762\n",
      "Iteration 25. Weight: 3.063132044304764, Prediction: [[30.63132044]], Error: 35860.496797143715\n",
      "Iteration 26. Weight: 3.163132044304764, Prediction: [[31.63132044]], Error: 35482.7594380298\n",
      "Iteration 27. Weight: 3.263132044304764, Prediction: [[32.63132044]], Error: 35107.0220789159\n",
      "Iteration 28. Weight: 3.363132044304764, Prediction: [[33.63132044]], Error: 34733.284719801995\n",
      "Iteration 29. Weight: 3.463132044304764, Prediction: [[34.63132044]], Error: 34361.54736068809\n",
      "Iteration 30. Weight: 3.5631320443047643, Prediction: [[35.63132044]], Error: 33991.81000157419\n",
      "Iteration 31. Weight: 3.6631320443047644, Prediction: [[36.63132044]], Error: 33624.07264246028\n",
      "Iteration 32. Weight: 3.7631320443047644, Prediction: [[37.63132044]], Error: 33258.33528334638\n",
      "Iteration 33. Weight: 3.8631320443047645, Prediction: [[38.63132044]], Error: 32894.597924232476\n",
      "Iteration 34. Weight: 3.9631320443047646, Prediction: [[39.63132044]], Error: 32532.860565118557\n",
      "Iteration 35. Weight: 4.063132044304765, Prediction: [[40.63132044]], Error: 32173.123206004653\n",
      "Iteration 36. Weight: 4.163132044304764, Prediction: [[41.63132044]], Error: 31815.38584689076\n",
      "Iteration 37. Weight: 4.263132044304764, Prediction: [[42.63132044]], Error: 31459.648487776856\n",
      "Iteration 38. Weight: 4.363132044304764, Prediction: [[43.63132044]], Error: 31105.91112866295\n",
      "Iteration 39. Weight: 4.463132044304763, Prediction: [[44.63132044]], Error: 30754.173769549045\n",
      "Iteration 40. Weight: 4.563132044304763, Prediction: [[45.63132044]], Error: 30404.43641043514\n",
      "Iteration 41. Weight: 4.663132044304763, Prediction: [[46.63132044]], Error: 30056.699051321237\n",
      "Iteration 42. Weight: 4.763132044304762, Prediction: [[47.63132044]], Error: 29710.96169220733\n",
      "Iteration 43. Weight: 4.863132044304762, Prediction: [[48.63132044]], Error: 29367.224333093425\n",
      "Iteration 44. Weight: 4.9631320443047615, Prediction: [[49.63132044]], Error: 29025.48697397952\n",
      "Iteration 45. Weight: 5.063132044304761, Prediction: [[50.63132044]], Error: 28685.749614865617\n",
      "Iteration 46. Weight: 5.163132044304761, Prediction: [[51.63132044]], Error: 28348.01225575172\n",
      "Iteration 47. Weight: 5.2631320443047604, Prediction: [[52.63132044]], Error: 28012.274896637817\n",
      "Iteration 48. Weight: 5.36313204430476, Prediction: [[53.63132044]], Error: 27678.537537523913\n",
      "Iteration 49. Weight: 5.46313204430476, Prediction: [[54.63132044]], Error: 27346.800178410005\n",
      "Iteration 50. Weight: 5.563132044304759, Prediction: [[55.63132044]], Error: 27017.0628192961\n",
      "Iteration 51. Weight: 5.663132044304759, Prediction: [[56.63132044]], Error: 26689.325460182197\n",
      "Iteration 52. Weight: 5.763132044304759, Prediction: [[57.63132044]], Error: 26363.5881010683\n",
      "Iteration 53. Weight: 5.863132044304758, Prediction: [[58.63132044]], Error: 26039.850741954397\n",
      "Iteration 54. Weight: 5.963132044304758, Prediction: [[59.63132044]], Error: 25718.113382840493\n",
      "Iteration 55. Weight: 6.063132044304758, Prediction: [[60.63132044]], Error: 25398.37602372659\n",
      "Iteration 56. Weight: 6.163132044304757, Prediction: [[61.63132044]], Error: 25080.63866461268\n",
      "Iteration 57. Weight: 6.263132044304757, Prediction: [[62.63132044]], Error: 24764.901305498777\n",
      "Iteration 58. Weight: 6.3631320443047565, Prediction: [[63.63132044]], Error: 24451.163946384873\n",
      "Iteration 59. Weight: 6.463132044304756, Prediction: [[64.63132044]], Error: 24139.42658727097\n",
      "Iteration 60. Weight: 6.563132044304756, Prediction: [[65.63132044]], Error: 23829.68922815706\n",
      "Iteration 61. Weight: 6.6631320443047555, Prediction: [[66.63132044]], Error: 23521.951869043158\n",
      "Iteration 62. Weight: 6.763132044304755, Prediction: [[67.63132044]], Error: 23216.214509929254\n",
      "Iteration 63. Weight: 6.863132044304755, Prediction: [[68.63132044]], Error: 22912.477150815357\n",
      "Iteration 64. Weight: 6.963132044304754, Prediction: [[69.63132044]], Error: 22610.739791701453\n",
      "Iteration 65. Weight: 7.063132044304754, Prediction: [[70.63132044]], Error: 22311.002432587546\n",
      "Iteration 66. Weight: 7.163132044304754, Prediction: [[71.63132044]], Error: 22013.26507347364\n",
      "Iteration 67. Weight: 7.263132044304753, Prediction: [[72.63132044]], Error: 21717.527714359745\n",
      "Iteration 68. Weight: 7.363132044304753, Prediction: [[73.63132044]], Error: 21423.79035524584\n",
      "Iteration 69. Weight: 7.463132044304753, Prediction: [[74.63132044]], Error: 21132.052996131937\n",
      "Iteration 70. Weight: 7.563132044304752, Prediction: [[75.63132044]], Error: 20842.31563701803\n",
      "Iteration 71. Weight: 7.663132044304752, Prediction: [[76.63132044]], Error: 20554.578277904126\n",
      "Iteration 72. Weight: 7.763132044304752, Prediction: [[77.63132044]], Error: 20268.84091879022\n",
      "Iteration 73. Weight: 7.863132044304751, Prediction: [[78.63132044]], Error: 19985.103559676314\n",
      "Iteration 74. Weight: 7.963132044304751, Prediction: [[79.63132044]], Error: 19703.36620056241\n",
      "Iteration 75. Weight: 8.063132044304751, Prediction: [[80.63132044]], Error: 19423.628841448506\n",
      "Iteration 76. Weight: 8.163132044304751, Prediction: [[81.63132044]], Error: 19145.891482334602\n",
      "Iteration 77. Weight: 8.26313204430475, Prediction: [[82.63132044]], Error: 18870.154123220695\n",
      "Iteration 78. Weight: 8.36313204430475, Prediction: [[83.63132044]], Error: 18596.41676410679\n",
      "Iteration 79. Weight: 8.46313204430475, Prediction: [[84.63132044]], Error: 18324.679404992887\n",
      "Iteration 80. Weight: 8.56313204430475, Prediction: [[85.63132044]], Error: 18054.942045878983\n",
      "Iteration 81. Weight: 8.66313204430475, Prediction: [[86.63132044]], Error: 17787.204686765082\n",
      "Iteration 82. Weight: 8.763132044304749, Prediction: [[87.63132044]], Error: 17521.46732765118\n",
      "Iteration 83. Weight: 8.863132044304749, Prediction: [[88.63132044]], Error: 17257.729968537275\n",
      "Iteration 84. Weight: 8.963132044304748, Prediction: [[89.63132044]], Error: 16995.992609423367\n",
      "Iteration 85. Weight: 9.063132044304748, Prediction: [[90.63132044]], Error: 16736.255250309463\n",
      "Iteration 86. Weight: 9.163132044304747, Prediction: [[91.63132044]], Error: 16478.517891195566\n",
      "Iteration 87. Weight: 9.263132044304747, Prediction: [[92.63132044]], Error: 16222.780532081657\n",
      "Iteration 88. Weight: 9.363132044304747, Prediction: [[93.63132044]], Error: 15969.043172967751\n",
      "Iteration 89. Weight: 9.463132044304746, Prediction: [[94.63132044]], Error: 15717.30581385385\n",
      "Iteration 90. Weight: 9.563132044304746, Prediction: [[95.63132044]], Error: 15467.568454739945\n",
      "Iteration 91. Weight: 9.663132044304746, Prediction: [[96.63132044]], Error: 15219.831095626041\n",
      "Iteration 92. Weight: 9.763132044304745, Prediction: [[97.63132044]], Error: 14974.093736512135\n",
      "Iteration 93. Weight: 9.863132044304745, Prediction: [[98.63132044]], Error: 14730.35637739823\n",
      "Iteration 94. Weight: 9.963132044304745, Prediction: [[99.63132044]], Error: 14488.61901828433\n",
      "Iteration 95. Weight: 10.063132044304744, Prediction: [[100.63132044]], Error: 14248.881659170424\n",
      "Iteration 96. Weight: 10.163132044304744, Prediction: [[101.63132044]], Error: 14011.144300056518\n",
      "Iteration 97. Weight: 10.263132044304744, Prediction: [[102.63132044]], Error: 13775.406940942616\n",
      "Iteration 98. Weight: 10.363132044304743, Prediction: [[103.63132044]], Error: 13541.669581828712\n",
      "Iteration 99. Weight: 10.463132044304743, Prediction: [[104.63132044]], Error: 13309.932222714806\n",
      "Iteration 100. Weight: 10.563132044304743, Prediction: [[105.63132044]], Error: 13080.1948636009\n",
      "Iteration 101. Weight: 10.663132044304742, Prediction: [[106.63132044]], Error: 12852.457504486996\n",
      "Iteration 102. Weight: 10.763132044304742, Prediction: [[107.63132044]], Error: 12626.720145373094\n",
      "Iteration 103. Weight: 10.863132044304741, Prediction: [[108.63132044]], Error: 12402.982786259188\n",
      "Iteration 104. Weight: 10.963132044304741, Prediction: [[109.63132044]], Error: 12181.245427145284\n",
      "Iteration 105. Weight: 11.06313204430474, Prediction: [[110.63132044]], Error: 11961.508068031382\n",
      "Iteration 106. Weight: 11.16313204430474, Prediction: [[111.63132044]], Error: 11743.770708917476\n",
      "Iteration 107. Weight: 11.26313204430474, Prediction: [[112.63132044]], Error: 11528.03334980357\n",
      "Iteration 108. Weight: 11.36313204430474, Prediction: [[113.63132044]], Error: 11314.295990689667\n",
      "Iteration 109. Weight: 11.46313204430474, Prediction: [[114.63132044]], Error: 11102.558631575761\n",
      "Iteration 110. Weight: 11.563132044304739, Prediction: [[115.63132044]], Error: 10892.821272461859\n",
      "Iteration 111. Weight: 11.663132044304739, Prediction: [[116.63132044]], Error: 10685.083913347953\n",
      "Iteration 112. Weight: 11.763132044304738, Prediction: [[117.63132044]], Error: 10479.346554234047\n",
      "Iteration 113. Weight: 11.863132044304738, Prediction: [[118.63132044]], Error: 10275.609195120145\n",
      "Iteration 114. Weight: 11.963132044304738, Prediction: [[119.63132044]], Error: 10073.871836006241\n",
      "Iteration 115. Weight: 12.063132044304737, Prediction: [[120.63132044]], Error: 9874.134476892335\n",
      "Iteration 116. Weight: 12.163132044304737, Prediction: [[121.63132044]], Error: 9676.39711777843\n",
      "Iteration 117. Weight: 12.263132044304736, Prediction: [[122.63132044]], Error: 9480.659758664524\n",
      "Iteration 118. Weight: 12.363132044304736, Prediction: [[123.63132044]], Error: 9286.922399550622\n",
      "Iteration 119. Weight: 12.463132044304736, Prediction: [[124.63132044]], Error: 9095.185040436716\n",
      "Iteration 120. Weight: 12.563132044304735, Prediction: [[125.63132044]], Error: 8905.447681322812\n",
      "Iteration 121. Weight: 12.663132044304735, Prediction: [[126.63132044]], Error: 8717.710322208908\n",
      "Iteration 122. Weight: 12.763132044304735, Prediction: [[127.63132044]], Error: 8531.972963095004\n",
      "Iteration 123. Weight: 12.863132044304734, Prediction: [[128.63132044]], Error: 8348.235603981098\n",
      "Iteration 124. Weight: 12.963132044304734, Prediction: [[129.63132044]], Error: 8166.498244867193\n",
      "Iteration 125. Weight: 13.063132044304734, Prediction: [[130.63132044]], Error: 7986.760885753288\n",
      "Iteration 126. Weight: 13.163132044304733, Prediction: [[131.63132044]], Error: 7809.023526639382\n",
      "Iteration 127. Weight: 13.263132044304733, Prediction: [[132.63132044]], Error: 7633.286167525477\n",
      "Iteration 128. Weight: 13.363132044304733, Prediction: [[133.63132044]], Error: 7459.548808411577\n",
      "Iteration 129. Weight: 13.463132044304732, Prediction: [[134.63132044]], Error: 7287.811449297671\n",
      "Iteration 130. Weight: 13.563132044304732, Prediction: [[135.63132044]], Error: 7118.074090183766\n",
      "Iteration 131. Weight: 13.663132044304731, Prediction: [[136.63132044]], Error: 6950.33673106986\n",
      "Iteration 132. Weight: 13.763132044304731, Prediction: [[137.63132044]], Error: 6784.599371955956\n",
      "Iteration 133. Weight: 13.86313204430473, Prediction: [[138.63132044]], Error: 6620.86201284205\n",
      "Iteration 134. Weight: 13.96313204430473, Prediction: [[139.63132044]], Error: 6459.124653728144\n",
      "Iteration 135. Weight: 14.06313204430473, Prediction: [[140.63132044]], Error: 6299.387294614244\n",
      "Iteration 136. Weight: 14.16313204430473, Prediction: [[141.63132044]], Error: 6141.649935500338\n",
      "Iteration 137. Weight: 14.26313204430473, Prediction: [[142.63132044]], Error: 5985.912576386433\n",
      "Iteration 138. Weight: 14.363132044304729, Prediction: [[143.63132044]], Error: 5832.175217272527\n",
      "Iteration 139. Weight: 14.463132044304729, Prediction: [[144.63132044]], Error: 5680.437858158622\n",
      "Iteration 140. Weight: 14.563132044304728, Prediction: [[145.63132044]], Error: 5530.700499044717\n",
      "Iteration 141. Weight: 14.663132044304728, Prediction: [[146.63132044]], Error: 5382.963139930811\n",
      "Iteration 142. Weight: 14.763132044304728, Prediction: [[147.63132044]], Error: 5237.225780816905\n",
      "Iteration 143. Weight: 14.863132044304727, Prediction: [[148.63132044]], Error: 5093.488421703\n",
      "Iteration 144. Weight: 14.963132044304727, Prediction: [[149.63132044]], Error: 4951.751062589099\n",
      "Iteration 145. Weight: 15.063132044304727, Prediction: [[150.63132044]], Error: 4812.013703475193\n",
      "Iteration 146. Weight: 15.163132044304726, Prediction: [[151.63132044]], Error: 4674.276344361288\n",
      "Iteration 147. Weight: 15.263132044304726, Prediction: [[152.63132044]], Error: 4538.538985247383\n",
      "Iteration 148. Weight: 15.363132044304725, Prediction: [[153.63132044]], Error: 4404.801626133477\n",
      "Iteration 149. Weight: 15.463132044304725, Prediction: [[154.63132044]], Error: 4273.064267019571\n",
      "Iteration 150. Weight: 15.563132044304725, Prediction: [[155.63132044]], Error: 4143.326907905665\n",
      "Iteration 151. Weight: 15.663132044304724, Prediction: [[156.63132044]], Error: 4015.589548791764\n",
      "Iteration 152. Weight: 15.763132044304724, Prediction: [[157.63132044]], Error: 3889.8521896778584\n",
      "Iteration 153. Weight: 15.863132044304724, Prediction: [[158.63132044]], Error: 3766.114830563953\n",
      "Iteration 154. Weight: 15.963132044304723, Prediction: [[159.63132044]], Error: 3644.3774714500473\n",
      "Iteration 155. Weight: 16.063132044304723, Prediction: [[160.63132044]], Error: 3524.640112336142\n",
      "Iteration 156. Weight: 16.163132044304724, Prediction: [[161.63132044]], Error: 3406.9027532222362\n",
      "Iteration 157. Weight: 16.263132044304726, Prediction: [[162.63132044]], Error: 3291.1653941083273\n",
      "Iteration 158. Weight: 16.363132044304727, Prediction: [[163.63132044]], Error: 3177.428034994419\n",
      "Iteration 159. Weight: 16.46313204430473, Prediction: [[164.63132044]], Error: 3065.6906758805135\n",
      "Iteration 160. Weight: 16.56313204430473, Prediction: [[165.63132044]], Error: 2955.9533167666077\n",
      "Iteration 161. Weight: 16.66313204430473, Prediction: [[166.63132044]], Error: 2848.2159576526997\n",
      "Iteration 162. Weight: 16.763132044304733, Prediction: [[167.63132044]], Error: 2742.478598538791\n",
      "Iteration 163. Weight: 16.863132044304734, Prediction: [[168.63132044]], Error: 2638.741239424886\n",
      "Iteration 164. Weight: 16.963132044304736, Prediction: [[169.63132044]], Error: 2537.0038803109805\n",
      "Iteration 165. Weight: 17.063132044304737, Prediction: [[170.63132044]], Error: 2437.2665211970725\n",
      "Iteration 166. Weight: 17.16313204430474, Prediction: [[171.63132044]], Error: 2339.5291620831645\n",
      "Iteration 167. Weight: 17.26313204430474, Prediction: [[172.63132044]], Error: 2243.791802969259\n",
      "Iteration 168. Weight: 17.36313204430474, Prediction: [[173.63132044]], Error: 2150.054443855354\n",
      "Iteration 169. Weight: 17.463132044304743, Prediction: [[174.63132044]], Error: 2058.3170847414463\n",
      "Iteration 170. Weight: 17.563132044304744, Prediction: [[175.63132044]], Error: 1968.5797256275384\n",
      "Iteration 171. Weight: 17.663132044304746, Prediction: [[176.63132044]], Error: 1880.8423665136334\n",
      "Iteration 172. Weight: 17.763132044304747, Prediction: [[177.63132044]], Error: 1795.1050073997283\n",
      "Iteration 173. Weight: 17.86313204430475, Prediction: [[178.63132044]], Error: 1711.367648285821\n",
      "Iteration 174. Weight: 17.96313204430475, Prediction: [[179.63132044]], Error: 1629.6302891719135\n",
      "Iteration 175. Weight: 18.06313204430475, Prediction: [[180.63132044]], Error: 1549.8929300580087\n",
      "Iteration 176. Weight: 18.163132044304753, Prediction: [[181.63132044]], Error: 1472.1555709441036\n",
      "Iteration 177. Weight: 18.263132044304754, Prediction: [[182.63132044]], Error: 1396.4182118301965\n",
      "Iteration 178. Weight: 18.363132044304756, Prediction: [[183.63132044]], Error: 1322.6808527162896\n",
      "Iteration 179. Weight: 18.463132044304757, Prediction: [[184.63132044]], Error: 1250.9434936023847\n",
      "Iteration 180. Weight: 18.56313204430476, Prediction: [[185.63132044]], Error: 1181.2061344884798\n",
      "Iteration 181. Weight: 18.66313204430476, Prediction: [[186.63132044]], Error: 1113.4687753745732\n",
      "Iteration 182. Weight: 18.76313204430476, Prediction: [[187.63132044]], Error: 1047.7314162606665\n",
      "Iteration 183. Weight: 18.863132044304763, Prediction: [[188.63132044]], Error: 983.9940571467616\n",
      "Iteration 184. Weight: 18.963132044304764, Prediction: [[189.63132044]], Error: 922.2566980328569\n",
      "Iteration 185. Weight: 19.063132044304766, Prediction: [[190.63132044]], Error: 862.5193389189506\n",
      "Iteration 186. Weight: 19.163132044304767, Prediction: [[191.63132044]], Error: 804.7819798050442\n",
      "Iteration 187. Weight: 19.26313204430477, Prediction: [[192.63132044]], Error: 749.0446206911396\n",
      "Iteration 188. Weight: 19.36313204430477, Prediction: [[193.63132044]], Error: 695.307261577235\n",
      "Iteration 189. Weight: 19.46313204430477, Prediction: [[194.63132044]], Error: 643.5699024633288\n",
      "Iteration 190. Weight: 19.563132044304773, Prediction: [[195.63132044]], Error: 593.832543349423\n",
      "Iteration 191. Weight: 19.663132044304774, Prediction: [[196.63132044]], Error: 546.0951842355184\n",
      "Iteration 192. Weight: 19.763132044304776, Prediction: [[197.63132044]], Error: 500.35782512161387\n",
      "Iteration 193. Weight: 19.863132044304777, Prediction: [[198.63132044]], Error: 456.62046600770816\n",
      "Iteration 194. Weight: 19.96313204430478, Prediction: [[199.63132044]], Error: 414.88310689380256\n",
      "Iteration 195. Weight: 20.06313204430478, Prediction: [[200.63132044]], Error: 375.14574777989816\n",
      "Iteration 196. Weight: 20.16313204430478, Prediction: [[201.63132044]], Error: 337.40838866599375\n",
      "Iteration 197. Weight: 20.263132044304783, Prediction: [[202.63132044]], Error: 301.6710295520883\n",
      "Iteration 198. Weight: 20.363132044304784, Prediction: [[203.63132044]], Error: 267.93367043818307\n",
      "Iteration 199. Weight: 20.463132044304785, Prediction: [[204.63132044]], Error: 236.19631132427878\n",
      "Iteration 200. Weight: 20.563132044304787, Prediction: [[205.63132044]], Error: 206.4589522103745\n",
      "Iteration 201. Weight: 20.66313204430479, Prediction: [[206.63132044]], Error: 178.72159309646943\n",
      "Iteration 202. Weight: 20.76313204430479, Prediction: [[207.63132044]], Error: 152.98423398256452\n",
      "Iteration 203. Weight: 20.86313204430479, Prediction: [[208.63132044]], Error: 129.24687486866034\n",
      "Iteration 204. Weight: 20.963132044304793, Prediction: [[209.63132044]], Error: 107.50951575475615\n",
      "Iteration 205. Weight: 21.063132044304794, Prediction: [[210.63132044]], Error: 87.77215664085145\n",
      "Iteration 206. Weight: 21.163132044304795, Prediction: [[211.63132044]], Error: 70.03479752694685\n",
      "Iteration 207. Weight: 21.263132044304797, Prediction: [[212.63132044]], Error: 54.297438413042784\n",
      "Iteration 208. Weight: 21.3631320443048, Prediction: [[213.63132044]], Error: 40.56007929913872\n",
      "Iteration 209. Weight: 21.4631320443048, Prediction: [[214.63132044]], Error: 28.822720185234356\n",
      "Iteration 210. Weight: 21.5631320443048, Prediction: [[215.63132044]], Error: 19.0853610713301\n",
      "Iteration 211. Weight: 21.663132044304803, Prediction: [[216.63132044]], Error: 11.34800195742615\n",
      "Iteration 212. Weight: 21.763132044304804, Prediction: [[217.63132044]], Error: 5.610642843522203\n",
      "Iteration 213. Weight: 21.863132044304805, Prediction: [[218.63132044]], Error: 1.8732837296181755\n",
      "Iteration 214. Weight: 21.963132044304807, Prediction: [[219.63132044]], Error: 0.13592461571426231\n",
      "Iteration 215. Weight: 22.06313204430481, Prediction: [[220.63132044]], Error: 0.39856550181042694\n",
      "Iteration 216. Weight: 21.963132044304807, Prediction: [[219.63132044]], Error: 0.13592461571426231\n",
      "Iteration 217. Weight: 22.06313204430481, Prediction: [[220.63132044]], Error: 0.39856550181042694\n",
      "Iteration 218. Weight: 21.963132044304807, Prediction: [[219.63132044]], Error: 0.13592461571426231\n",
      "Iteration 219. Weight: 22.06313204430481, Prediction: [[220.63132044]], Error: 0.39856550181042694\n"
     ]
    }
   ],
   "source": [
    "# we'll be using hot-cold method \n",
    "# change weight a little, up and down, and see which way reduces error\n",
    "\n",
    "def learn_step(w, inp, goal, learning_rate=0.1):\n",
    "    lr = learning_rate\n",
    "    def get_err(w):\n",
    "        return ((inp * w - goal) ** 2).sum()\n",
    "    \n",
    "    err = get_err(w)\n",
    "    err_up = get_err(w + lr)\n",
    "    err_down = get_err(w - lr)\n",
    "    \n",
    "    if err_up < err_down:\n",
    "        w = w + lr\n",
    "        err = err_up\n",
    "    \n",
    "    else: \n",
    "      w = w - lr\n",
    "      err = err_down\n",
    "\n",
    "    return w, inp * w, err\n",
    "\n",
    "\n",
    "# let's learn! if everything is OK, error should decrease.\n",
    "preds = []\n",
    "w, pred, err = learn_step(w_init, input_pix, target_pix)\n",
    "for i in range(220):\n",
    "    w, pred, err = learn_step(w, input_pix, target_pix)\n",
    "    preds.append(pred)\n",
    "    print(\"Iteration {}. Weight: {}, Prediction: {}, Error: {}\".format(i, w, pred, err))\n"
   ]
  },
  {
   "cell_type": "code",
   "execution_count": 12,
   "metadata": {
    "colab": {
     "base_uri": "https://localhost:8080/",
     "height": 273
    },
    "colab_type": "code",
    "id": "q0ZnR5lQtP6-",
    "outputId": "713113b8-6707-4538-b4dd-8f9b9a6403f0"
   },
   "outputs": [
    {
     "data": {
      "image/png": "[encoded data removed]",
      "text/plain": [
       "<PIL.Image.Image image mode=L size=256x256 at 0x7FF001E4D6A0>"
      ]
     },
     "execution_count": 12,
     "metadata": {},
     "output_type": "execute_result"
    }
   ],
   "source": [
    "# let's look at our learned pixel:\n",
    "show(pred)  # not bad!"
   ]
  },
  {
   "cell_type": "code",
   "execution_count": 13,
   "metadata": {
    "colab": {
     "base_uri": "https://localhost:8080/",
     "height": 276
    },
    "colab_type": "code",
    "id": "LcL_YwMks4ay",
    "outputId": "79c66ac0-caa8-49c4-cc8d-396b5414188c"
   },
   "outputs": [
    {
     "data": {
      "text/html": [
       "<img src=\"https://i.imgur.com/tY3GksS.gif\">\n"
      ],
      "text/plain": [
       "<IPython.core.display.HTML object>"
      ]
     },
     "execution_count": 13,
     "metadata": {},
     "output_type": "execute_result"
    }
   ],
   "source": [
    "# thats all folks!\n",
    "from IPython.display import HTML\n",
    "\n",
    "HTML(\"\"\"<img src=\"https://i.imgur.com/tY3GksS.gif\">\n",
    "\"\"\")"
   ]
  },
  {
   "cell_type": "code",
   "execution_count": 14,
   "metadata": {},
   "outputs": [],
   "source": [
    "# we can set the initial value of input to 1. \n",
    "# Then apply this algorithm 3 times, to determine red, green, and blue values for output pixel.\n",
    "# we'll call it xy2rgb net.\n"
   ]
  },
  {
   "cell_type": "code",
   "execution_count": 31,
   "metadata": {},
   "outputs": [
    {
     "data": {
      "image/png": "[encoded data removed]",
      "text/plain": [
       "<PIL.Image.Image image mode=RGB size=256x256 at 0x7FF001E64D68>"
      ]
     },
     "execution_count": 31,
     "metadata": {},
     "output_type": "execute_result"
    }
   ],
   "source": [
    "input = np.array([[[1, 1, 1]]])\n",
    "show(input)"
   ]
  },
  {
   "cell_type": "code",
   "execution_count": 39,
   "metadata": {},
   "outputs": [
    {
     "data": {
      "image/png": "[encoded data removed]",
      "text/plain": [
       "<PIL.Image.Image image mode=RGB size=256x256 at 0x7FF001DF2198>"
      ]
     },
     "execution_count": 39,
     "metadata": {},
     "output_type": "execute_result"
    }
   ],
   "source": [
    "target = np.array([[[np.random.randint(0, 255) for _ in range(3)]]])\n",
    "show(target)"
   ]
  },
  {
   "cell_type": "code",
   "execution_count": 70,
   "metadata": {},
   "outputs": [
    {
     "data": {
      "text/plain": [
       "[array([[219]]), array([[164]]), array([[111]])]"
      ]
     },
     "execution_count": 70,
     "metadata": {},
     "output_type": "execute_result"
    }
   ],
   "source": [
    "# learning colourful pixel is like learning 3 different grayscale values\n",
    "def rgb_to_gs(rgb):\n",
    "    return [np.array([[rgb[0][0][i]]]) for i in range(3)]\n",
    "\n",
    "rgb_to_gs(target)"
   ]
  },
  {
   "cell_type": "code",
   "execution_count": 76,
   "metadata": {},
   "outputs": [
    {
     "data": {
      "text/plain": [
       "array([[111.]])"
      ]
     },
     "execution_count": 76,
     "metadata": {},
     "output_type": "execute_result"
    }
   ],
   "source": [
    "w"
   ]
  },
  {
   "cell_type": "code",
   "execution_count": 84,
   "metadata": {},
   "outputs": [
    {
     "name": "stdout",
     "output_type": "stream",
     "text": [
      "[[-218.5]]\n",
      "0 [array([[219.]]), 0.5, 0.5] 47742.25 [array([[0.5]]), 1, 1]\n",
      "[[-163.5]]\n",
      "1 [array([[219.]]), array([[164.]]), 0.5] 26732.25 [array([[0.5]]), array([[0.5]]), 1]\n",
      "[[-110.5]]\n",
      "2 [array([[219.]]), array([[164.]]), array([[111.]])] 12210.25 [array([[0.5]]), array([[0.5]]), array([[0.5]])]\n",
      "[[0.]]\n",
      "0 [array([[219.]]), array([[164.]]), array([[111.]])] 0.0 [array([[219.]]), array([[0.5]]), array([[0.5]])]\n",
      "[[0.]]\n",
      "1 [array([[219.]]), array([[164.]]), array([[111.]])] 0.0 [array([[219.]]), array([[164.]]), array([[0.5]])]\n",
      "[[0.]]\n",
      "2 [array([[219.]]), array([[164.]]), array([[111.]])] 0.0 [array([[219.]]), array([[164.]]), array([[111.]])]\n",
      "[[0.]]\n",
      "0 [array([[219.]]), array([[164.]]), array([[111.]])] 0.0 [array([[219.]]), array([[164.]]), array([[111.]])]\n",
      "[[0.]]\n",
      "1 [array([[219.]]), array([[164.]]), array([[111.]])] 0.0 [array([[219.]]), array([[164.]]), array([[111.]])]\n",
      "[[0.]]\n",
      "2 [array([[219.]]), array([[164.]]), array([[111.]])] 0.0 [array([[219.]]), array([[164.]]), array([[111.]])]\n",
      "[[0.]]\n",
      "0 [array([[219.]]), array([[164.]]), array([[111.]])] 0.0 [array([[219.]]), array([[164.]]), array([[111.]])]\n",
      "[[0.]]\n",
      "1 [array([[219.]]), array([[164.]]), array([[111.]])] 0.0 [array([[219.]]), array([[164.]]), array([[111.]])]\n",
      "[[0.]]\n",
      "2 [array([[219.]]), array([[164.]]), array([[111.]])] 0.0 [array([[219.]]), array([[164.]]), array([[111.]])]\n",
      "[[0.]]\n",
      "0 [array([[219.]]), array([[164.]]), array([[111.]])] 0.0 [array([[219.]]), array([[164.]]), array([[111.]])]\n",
      "[[0.]]\n",
      "1 [array([[219.]]), array([[164.]]), array([[111.]])] 0.0 [array([[219.]]), array([[164.]]), array([[111.]])]\n",
      "[[0.]]\n",
      "2 [array([[219.]]), array([[164.]]), array([[111.]])] 0.0 [array([[219.]]), array([[164.]]), array([[111.]])]\n",
      "[[0.]]\n",
      "0 [array([[219.]]), array([[164.]]), array([[111.]])] 0.0 [array([[219.]]), array([[164.]]), array([[111.]])]\n",
      "[[0.]]\n",
      "1 [array([[219.]]), array([[164.]]), array([[111.]])] 0.0 [array([[219.]]), array([[164.]]), array([[111.]])]\n",
      "[[0.]]\n",
      "2 [array([[219.]]), array([[164.]]), array([[111.]])] 0.0 [array([[219.]]), array([[164.]]), array([[111.]])]\n",
      "[[0.]]\n",
      "0 [array([[219.]]), array([[164.]]), array([[111.]])] 0.0 [array([[219.]]), array([[164.]]), array([[111.]])]\n",
      "[[0.]]\n",
      "1 [array([[219.]]), array([[164.]]), array([[111.]])] 0.0 [array([[219.]]), array([[164.]]), array([[111.]])]\n",
      "[[0.]]\n",
      "2 [array([[219.]]), array([[164.]]), array([[111.]])] 0.0 [array([[219.]]), array([[164.]]), array([[111.]])]\n",
      "[[0.]]\n",
      "0 [array([[219.]]), array([[164.]]), array([[111.]])] 0.0 [array([[219.]]), array([[164.]]), array([[111.]])]\n",
      "[[0.]]\n",
      "1 [array([[219.]]), array([[164.]]), array([[111.]])] 0.0 [array([[219.]]), array([[164.]]), array([[111.]])]\n",
      "[[0.]]\n",
      "2 [array([[219.]]), array([[164.]]), array([[111.]])] 0.0 [array([[219.]]), array([[164.]]), array([[111.]])]\n",
      "[[0.]]\n",
      "0 [array([[219.]]), array([[164.]]), array([[111.]])] 0.0 [array([[219.]]), array([[164.]]), array([[111.]])]\n",
      "[[0.]]\n",
      "1 [array([[219.]]), array([[164.]]), array([[111.]])] 0.0 [array([[219.]]), array([[164.]]), array([[111.]])]\n",
      "[[0.]]\n",
      "2 [array([[219.]]), array([[164.]]), array([[111.]])] 0.0 [array([[219.]]), array([[164.]]), array([[111.]])]\n",
      "[[0.]]\n",
      "0 [array([[219.]]), array([[164.]]), array([[111.]])] 0.0 [array([[219.]]), array([[164.]]), array([[111.]])]\n",
      "[[0.]]\n",
      "1 [array([[219.]]), array([[164.]]), array([[111.]])] 0.0 [array([[219.]]), array([[164.]]), array([[111.]])]\n",
      "[[0.]]\n",
      "2 [array([[219.]]), array([[164.]]), array([[111.]])] 0.0 [array([[219.]]), array([[164.]]), array([[111.]])]\n"
     ]
    },
    {
     "data": {
      "text/plain": [
       "[array([[219.]]), array([[164.]]), array([[111.]])]"
      ]
     },
     "execution_count": 84,
     "metadata": {},
     "output_type": "execute_result"
    }
   ],
   "source": [
    "# we'll be optimizing by GRADIENT DESCENT\n",
    "# this means, we want to change the weight by variable step, depending on how big the error is\n",
    "\n",
    "def gradient_descent_step(w, input, target):\n",
    "    pred = input * w\n",
    "    err = ((pred - target) ** 2).sum()\n",
    "    direction_and_amount = (pred - target) * input.sum()\n",
    "    print(direction_and_amount)\n",
    "    w -= direction_and_amount\n",
    "    return w, err, pred\n",
    "\n",
    "w_init = 0.5\n",
    "w = [w_init for _ in range(3)]\n",
    "pred = [1, 1, 1]\n",
    "\n",
    "for _ in range(10):\n",
    "    for i in range(3):\n",
    "        w[i], err, pred[i] = gradient_descent_step(w[i], rgb_to_gs(input)[i], rgb_to_gs(target)[i])\n",
    "        print(i, w, err, pred)    \n"
   ]
  },
  {
   "cell_type": "code",
   "execution_count": 92,
   "metadata": {},
   "outputs": [
    {
     "data": {
      "image/png": "[encoded data removed]",
      "text/plain": [
       "<PIL.Image.Image image mode=RGB size=256x256 at 0x7FF001DDFC50>"
      ]
     },
     "execution_count": 92,
     "metadata": {},
     "output_type": "execute_result"
    }
   ],
   "source": [
    "show(np.array([[[pred[i][0][0] for i in range(3)]]]))  # wow that converged quickly"
   ]
  }
 ],
 "metadata": {
  "colab": {
   "collapsed_sections": [],
   "name": "dumbnet.ipynb",
   "provenance": []
  },
  "kernelspec": {
   "display_name": "Python 3",
   "language": "python",
   "name": "python3"
  },
  "language_info": {
   "codemirror_mode": {
    "name": "ipython",
    "version": 3
   },
   "file_extension": ".py",
   "mimetype": "text/x-python",
   "name": "python",
   "nbconvert_exporter": "python",
   "pygments_lexer": "ipython3",
   "version": "3.6.8"
  }
 },
 "nbformat": 4,
 "nbformat_minor": 1
}
