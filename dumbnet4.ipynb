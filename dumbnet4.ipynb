{
 "cells": [
  {
   "cell_type": "code",
   "execution_count": 2,
   "metadata": {
    "colab": {},
    "colab_type": "code",
    "id": "mvrTXF3NnMvX"
   },
   "outputs": [],
   "source": [
    "# We are about to make dumbest possible neural net. It will contain 1 neuron and no bias.\n",
    "# We will be optimizing grayscale pixel\n",
    "# Basically, this is more visual example for the simplest possible neural network from the book \"grokking deep learning\""
   ]
  },
  {
   "cell_type": "code",
   "execution_count": 3,
   "metadata": {},
   "outputs": [
    {
     "name": "stdout",
     "output_type": "stream",
     "text": [
      "Requirement already satisfied: pillow in ./.venv/lib/python3.6/site-packages (5.2.0)\r\n"
     ]
    }
   ],
   "source": [
    "!pip install pillow\n"
   ]
  },
  {
   "cell_type": "code",
   "execution_count": 4,
   "metadata": {
    "colab": {},
    "colab_type": "code",
    "id": "FiZtTmwmn_o0"
   },
   "outputs": [],
   "source": [
    "import numpy as np\n",
    "from PIL import Image"
   ]
  },
  {
   "cell_type": "code",
   "execution_count": 5,
   "metadata": {
    "colab": {
     "base_uri": "https://localhost:8080/",
     "height": 273
    },
    "colab_type": "code",
    "id": "OJPvlBv_npKb",
    "outputId": "34e52342-7adb-43d5-c0b9-bf241fdaf114"
   },
   "outputs": [],
   "source": [
    "# this is the target pixel. it is light gray\n",
    "target_pix = np.array([[220]])\n",
    "\n",
    "# let's visualize it. \n",
    "def show(im):\n",
    "    \"\"\"use PIL 5.2.0. I've tried 7.0.0 and it blurs images when upscaling!\"\"\"\n",
    "    return Image.fromarray(im.astype('uint8')).resize((256, 256))\n",
    "  "
   ]
  },
  {
   "cell_type": "code",
   "execution_count": 6,
   "metadata": {
    "colab": {
     "base_uri": "https://localhost:8080/",
     "height": 273
    },
    "colab_type": "code",
    "id": "oT1z8ih0oD8c",
    "outputId": "cf6f0d06-142c-45b1-9f4a-77b3dd8d3292"
   },
   "outputs": [
    {
     "data": {
      "image/png": "[encoded data removed]",
      "text/plain": [
       "<PIL.Image.Image image mode=L size=256x256 at 0x7FBFF2906240>"
      ]
     },
     "execution_count": 6,
     "metadata": {},
     "output_type": "execute_result"
    }
   ],
   "source": [
    "# this is the input pixel, almost black\n",
    "\n",
    "input_pix = np.array([[10,]])\n",
    "\n",
    "show(input_pix)"
   ]
  },
  {
   "cell_type": "code",
   "execution_count": 7,
   "metadata": {
    "colab": {
     "base_uri": "https://localhost:8080/",
     "height": 291
    },
    "colab_type": "code",
    "id": "LPTDvxhbp6ux",
    "outputId": "32903385-809f-4fcc-c22f-d2aed384e7f2"
   },
   "outputs": [
    {
     "name": "stdout",
     "output_type": "stream",
     "text": [
      "Prediction: [[6.20452179]], Error: 45708.506501564334\n"
     ]
    },
    {
     "data": {
      "image/png": "[encoded data removed]",
      "text/plain": [
       "<PIL.Image.Image image mode=L size=256x256 at 0x7FBFF1A1B940>"
      ]
     },
     "execution_count": 7,
     "metadata": {},
     "output_type": "execute_result"
    }
   ],
   "source": [
    "# let's make initial prediction. \n",
    "w_init = np.random.random()\n",
    "pred = input_pix * w_init\n",
    "err = ((pred - target_pix) ** 2).sum()  # square the error, so it's always positive\n",
    "print(\"Prediction: {}, Error: {}\".format(pred, err))\n",
    "\n",
    "# it's more black that the original! Bad!\n",
    "show(pred)"
   ]
  },
  {
   "cell_type": "code",
   "execution_count": 8,
   "metadata": {
    "colab": {
     "base_uri": "https://localhost:8080/",
     "height": 1000
    },
    "colab_type": "code",
    "id": "TD3ToB1NpXX8",
    "outputId": "991dd9d3-6d94-4f0a-dbc0-185245e39a12"
   },
   "outputs": [
    {
     "name": "stdout",
     "output_type": "stream",
     "text": [
      "Iteration 0. Weight: 0.8204521793457156, Prediction: [[8.20452179]], Error: 44857.32458873816\n",
      "Iteration 1. Weight: 0.9204521793457155, Prediction: [[9.20452179]], Error: 44434.73363232508\n",
      "Iteration 2. Weight: 1.0204521793457155, Prediction: [[10.20452179]], Error: 44014.14267591199\n",
      "Iteration 3. Weight: 1.1204521793457156, Prediction: [[11.20452179]], Error: 43595.55171949891\n",
      "Iteration 4. Weight: 1.2204521793457157, Prediction: [[12.20452179]], Error: 43178.96076308582\n",
      "Iteration 5. Weight: 1.3204521793457158, Prediction: [[13.20452179]], Error: 42764.36980667274\n",
      "Iteration 6. Weight: 1.4204521793457159, Prediction: [[14.20452179]], Error: 42351.778850259645\n",
      "Iteration 7. Weight: 1.520452179345716, Prediction: [[15.20452179]], Error: 41941.18789384656\n",
      "Iteration 8. Weight: 1.620452179345716, Prediction: [[16.20452179]], Error: 41532.596937433475\n",
      "Iteration 9. Weight: 1.7204521793457161, Prediction: [[17.20452179]], Error: 41126.00598102039\n",
      "Iteration 10. Weight: 1.8204521793457162, Prediction: [[18.20452179]], Error: 40721.415024607304\n",
      "Iteration 11. Weight: 1.9204521793457163, Prediction: [[19.20452179]], Error: 40318.82406819422\n",
      "Iteration 12. Weight: 2.020452179345716, Prediction: [[20.20452179]], Error: 39918.23311178113\n",
      "Iteration 13. Weight: 2.1204521793457163, Prediction: [[21.20452179]], Error: 39519.64215536805\n",
      "Iteration 14. Weight: 2.2204521793457164, Prediction: [[22.20452179]], Error: 39123.05119895496\n",
      "Iteration 15. Weight: 2.3204521793457165, Prediction: [[23.20452179]], Error: 38728.46024254188\n",
      "Iteration 16. Weight: 2.4204521793457165, Prediction: [[24.20452179]], Error: 38335.86928612879\n",
      "Iteration 17. Weight: 2.5204521793457166, Prediction: [[25.20452179]], Error: 37945.27832971571\n",
      "Iteration 18. Weight: 2.6204521793457167, Prediction: [[26.20452179]], Error: 37556.68737330262\n",
      "Iteration 19. Weight: 2.720452179345717, Prediction: [[27.20452179]], Error: 37170.09641688954\n",
      "Iteration 20. Weight: 2.820452179345717, Prediction: [[28.20452179]], Error: 36785.50546047645\n",
      "Iteration 21. Weight: 2.920452179345717, Prediction: [[29.20452179]], Error: 36402.91450406337\n",
      "Iteration 22. Weight: 3.020452179345717, Prediction: [[30.20452179]], Error: 36022.323547650274\n",
      "Iteration 23. Weight: 3.120452179345717, Prediction: [[31.20452179]], Error: 35643.73259123719\n",
      "Iteration 24. Weight: 3.2204521793457173, Prediction: [[32.20452179]], Error: 35267.141634824104\n",
      "Iteration 25. Weight: 3.3204521793457173, Prediction: [[33.20452179]], Error: 34892.55067841102\n",
      "Iteration 26. Weight: 3.4204521793457174, Prediction: [[34.20452179]], Error: 34519.95972199793\n",
      "Iteration 27. Weight: 3.5204521793457175, Prediction: [[35.20452179]], Error: 34149.36876558485\n",
      "Iteration 28. Weight: 3.6204521793457176, Prediction: [[36.20452179]], Error: 33780.77780917176\n",
      "Iteration 29. Weight: 3.7204521793457177, Prediction: [[37.20452179]], Error: 33414.18685275868\n",
      "Iteration 30. Weight: 3.820452179345718, Prediction: [[38.20452179]], Error: 33049.59589634559\n",
      "Iteration 31. Weight: 3.920452179345718, Prediction: [[39.20452179]], Error: 32687.004939932507\n",
      "Iteration 32. Weight: 4.0204521793457175, Prediction: [[40.20452179]], Error: 32326.413983519422\n",
      "Iteration 33. Weight: 4.120452179345717, Prediction: [[41.20452179]], Error: 31967.823027106337\n",
      "Iteration 34. Weight: 4.220452179345717, Prediction: [[42.20452179]], Error: 31611.232070693248\n",
      "Iteration 35. Weight: 4.3204521793457165, Prediction: [[43.20452179]], Error: 31256.641114280163\n",
      "Iteration 36. Weight: 4.420452179345716, Prediction: [[44.20452179]], Error: 30904.050157867077\n",
      "Iteration 37. Weight: 4.520452179345716, Prediction: [[45.20452179]], Error: 30553.459201453992\n",
      "Iteration 38. Weight: 4.620452179345715, Prediction: [[46.20452179]], Error: 30204.868245040907\n",
      "Iteration 39. Weight: 4.720452179345715, Prediction: [[47.20452179]], Error: 29858.27728862782\n",
      "Iteration 40. Weight: 4.820452179345715, Prediction: [[48.20452179]], Error: 29513.686332214736\n",
      "Iteration 41. Weight: 4.920452179345714, Prediction: [[49.20452179]], Error: 29171.09537580165\n",
      "Iteration 42. Weight: 5.020452179345714, Prediction: [[50.20452179]], Error: 28830.504419388573\n",
      "Iteration 43. Weight: 5.120452179345714, Prediction: [[51.20452179]], Error: 28491.913462975488\n",
      "Iteration 44. Weight: 5.220452179345713, Prediction: [[52.20452179]], Error: 28155.322506562403\n",
      "Iteration 45. Weight: 5.320452179345713, Prediction: [[53.20452179]], Error: 27820.731550149318\n",
      "Iteration 46. Weight: 5.4204521793457126, Prediction: [[54.20452179]], Error: 27488.140593736232\n",
      "Iteration 47. Weight: 5.520452179345712, Prediction: [[55.20452179]], Error: 27157.549637323154\n",
      "Iteration 48. Weight: 5.620452179345712, Prediction: [[56.20452179]], Error: 26828.95868091007\n",
      "Iteration 49. Weight: 5.7204521793457115, Prediction: [[57.20452179]], Error: 26502.367724496984\n",
      "Iteration 50. Weight: 5.820452179345711, Prediction: [[58.20452179]], Error: 26177.7767680839\n",
      "Iteration 51. Weight: 5.920452179345711, Prediction: [[59.20452179]], Error: 25855.18581167081\n",
      "Iteration 52. Weight: 6.02045217934571, Prediction: [[60.20452179]], Error: 25534.594855257725\n",
      "Iteration 53. Weight: 6.12045217934571, Prediction: [[61.20452179]], Error: 25216.00389884464\n",
      "Iteration 54. Weight: 6.22045217934571, Prediction: [[62.20452179]], Error: 24899.412942431554\n",
      "Iteration 55. Weight: 6.320452179345709, Prediction: [[63.20452179]], Error: 24584.82198601847\n",
      "Iteration 56. Weight: 6.420452179345709, Prediction: [[64.20452179]], Error: 24272.231029605384\n",
      "Iteration 57. Weight: 6.520452179345709, Prediction: [[65.20452179]], Error: 23961.640073192295\n",
      "Iteration 58. Weight: 6.620452179345708, Prediction: [[66.20452179]], Error: 23653.04911677922\n",
      "Iteration 59. Weight: 6.720452179345708, Prediction: [[67.20452179]], Error: 23346.458160366135\n",
      "Iteration 60. Weight: 6.820452179345708, Prediction: [[68.20452179]], Error: 23041.867203953047\n",
      "Iteration 61. Weight: 6.920452179345707, Prediction: [[69.20452179]], Error: 22739.27624753996\n",
      "Iteration 62. Weight: 7.020452179345707, Prediction: [[70.20452179]], Error: 22438.685291126876\n",
      "Iteration 63. Weight: 7.1204521793457065, Prediction: [[71.20452179]], Error: 22140.094334713798\n",
      "Iteration 64. Weight: 7.220452179345706, Prediction: [[72.20452179]], Error: 21843.503378300713\n",
      "Iteration 65. Weight: 7.320452179345706, Prediction: [[73.20452179]], Error: 21548.912421887628\n",
      "Iteration 66. Weight: 7.4204521793457054, Prediction: [[74.20452179]], Error: 21256.321465474542\n",
      "Iteration 67. Weight: 7.520452179345705, Prediction: [[75.20452179]], Error: 20965.730509061454\n",
      "Iteration 68. Weight: 7.620452179345705, Prediction: [[76.20452179]], Error: 20677.13955264837\n",
      "Iteration 69. Weight: 7.720452179345704, Prediction: [[77.20452179]], Error: 20390.548596235283\n",
      "Iteration 70. Weight: 7.820452179345704, Prediction: [[78.20452179]], Error: 20105.957639822198\n",
      "Iteration 71. Weight: 7.920452179345704, Prediction: [[79.20452179]], Error: 19823.366683409113\n",
      "Iteration 72. Weight: 8.020452179345703, Prediction: [[80.20452179]], Error: 19542.775726996024\n",
      "Iteration 73. Weight: 8.120452179345703, Prediction: [[81.20452179]], Error: 19264.18477058294\n",
      "Iteration 74. Weight: 8.220452179345703, Prediction: [[82.20452179]], Error: 18987.59381416986\n",
      "Iteration 75. Weight: 8.320452179345702, Prediction: [[83.20452179]], Error: 18713.002857756775\n",
      "Iteration 76. Weight: 8.420452179345702, Prediction: [[84.20452179]], Error: 18440.41190134369\n",
      "Iteration 77. Weight: 8.520452179345702, Prediction: [[85.20452179]], Error: 18169.820944930605\n",
      "Iteration 78. Weight: 8.620452179345701, Prediction: [[86.20452179]], Error: 17901.229988517516\n",
      "Iteration 79. Weight: 8.7204521793457, Prediction: [[87.20452179]], Error: 17634.63903210444\n",
      "Iteration 80. Weight: 8.8204521793457, Prediction: [[88.20452179]], Error: 17370.048075691353\n",
      "Iteration 81. Weight: 8.9204521793457, Prediction: [[89.20452179]], Error: 17107.457119278268\n",
      "Iteration 82. Weight: 9.0204521793457, Prediction: [[90.20452179]], Error: 16846.866162865183\n",
      "Iteration 83. Weight: 9.1204521793457, Prediction: [[91.20452179]], Error: 16588.275206452094\n",
      "Iteration 84. Weight: 9.220452179345699, Prediction: [[92.20452179]], Error: 16331.684250039008\n",
      "Iteration 85. Weight: 9.320452179345699, Prediction: [[93.20452179]], Error: 16077.093293625923\n",
      "Iteration 86. Weight: 9.420452179345698, Prediction: [[94.20452179]], Error: 15824.502337212838\n",
      "Iteration 87. Weight: 9.520452179345698, Prediction: [[95.20452179]], Error: 15573.911380799755\n",
      "Iteration 88. Weight: 9.620452179345698, Prediction: [[96.20452179]], Error: 15325.32042438667\n",
      "Iteration 89. Weight: 9.720452179345697, Prediction: [[97.20452179]], Error: 15078.729467973582\n",
      "Iteration 90. Weight: 9.820452179345697, Prediction: [[98.20452179]], Error: 14834.1385115605\n",
      "Iteration 91. Weight: 9.920452179345697, Prediction: [[99.20452179]], Error: 14591.547555147414\n",
      "Iteration 92. Weight: 10.020452179345696, Prediction: [[100.20452179]], Error: 14350.956598734329\n",
      "Iteration 93. Weight: 10.120452179345696, Prediction: [[101.20452179]], Error: 14112.365642321241\n",
      "Iteration 94. Weight: 10.220452179345695, Prediction: [[102.20452179]], Error: 13875.774685908156\n",
      "Iteration 95. Weight: 10.320452179345695, Prediction: [[103.20452179]], Error: 13641.183729495073\n",
      "Iteration 96. Weight: 10.420452179345695, Prediction: [[104.20452179]], Error: 13408.592773081988\n",
      "Iteration 97. Weight: 10.520452179345694, Prediction: [[105.20452179]], Error: 13178.0018166689\n",
      "Iteration 98. Weight: 10.620452179345694, Prediction: [[106.20452179]], Error: 12949.410860255817\n",
      "Iteration 99. Weight: 10.720452179345694, Prediction: [[107.20452179]], Error: 12722.819903842732\n",
      "Iteration 100. Weight: 10.820452179345693, Prediction: [[108.20452179]], Error: 12498.228947429645\n",
      "Iteration 101. Weight: 10.920452179345693, Prediction: [[109.20452179]], Error: 12275.63799101656\n",
      "Iteration 102. Weight: 11.020452179345693, Prediction: [[110.20452179]], Error: 12055.047034603473\n",
      "Iteration 103. Weight: 11.120452179345692, Prediction: [[111.20452179]], Error: 11836.456078190391\n",
      "Iteration 104. Weight: 11.220452179345692, Prediction: [[112.20452179]], Error: 11619.865121777304\n",
      "Iteration 105. Weight: 11.320452179345692, Prediction: [[113.20452179]], Error: 11405.274165364219\n",
      "Iteration 106. Weight: 11.420452179345691, Prediction: [[114.20452179]], Error: 11192.683208951135\n",
      "Iteration 107. Weight: 11.52045217934569, Prediction: [[115.20452179]], Error: 10982.092252538048\n",
      "Iteration 108. Weight: 11.62045217934569, Prediction: [[116.20452179]], Error: 10773.501296124963\n",
      "Iteration 109. Weight: 11.72045217934569, Prediction: [[117.20452179]], Error: 10566.910339711876\n",
      "Iteration 110. Weight: 11.82045217934569, Prediction: [[118.20452179]], Error: 10362.31938329879\n",
      "Iteration 111. Weight: 11.92045217934569, Prediction: [[119.20452179]], Error: 10159.728426885707\n",
      "Iteration 112. Weight: 12.020452179345689, Prediction: [[120.20452179]], Error: 9959.13747047262\n",
      "Iteration 113. Weight: 12.120452179345689, Prediction: [[121.20452179]], Error: 9760.546514059535\n",
      "Iteration 114. Weight: 12.220452179345688, Prediction: [[122.20452179]], Error: 9563.955557646452\n",
      "Iteration 115. Weight: 12.320452179345688, Prediction: [[123.20452179]], Error: 9369.364601233365\n",
      "Iteration 116. Weight: 12.420452179345688, Prediction: [[124.20452179]], Error: 9176.773644820278\n",
      "Iteration 117. Weight: 12.520452179345687, Prediction: [[125.20452179]], Error: 8986.182688407192\n",
      "Iteration 118. Weight: 12.620452179345687, Prediction: [[126.20452179]], Error: 8797.591731994105\n",
      "Iteration 119. Weight: 12.720452179345687, Prediction: [[127.20452179]], Error: 8611.000775581022\n",
      "Iteration 120. Weight: 12.820452179345686, Prediction: [[128.20452179]], Error: 8426.409819167933\n",
      "Iteration 121. Weight: 12.920452179345686, Prediction: [[129.20452179]], Error: 8243.818862754852\n",
      "Iteration 122. Weight: 13.020452179345686, Prediction: [[130.20452179]], Error: 8063.227906341766\n",
      "Iteration 123. Weight: 13.120452179345685, Prediction: [[131.20452179]], Error: 7884.63694992868\n",
      "Iteration 124. Weight: 13.220452179345685, Prediction: [[132.20452179]], Error: 7708.045993515593\n",
      "Iteration 125. Weight: 13.320452179345684, Prediction: [[133.20452179]], Error: 7533.455037102507\n",
      "Iteration 126. Weight: 13.420452179345684, Prediction: [[134.20452179]], Error: 7360.864080689421\n",
      "Iteration 127. Weight: 13.520452179345684, Prediction: [[135.20452179]], Error: 7190.273124276335\n",
      "Iteration 128. Weight: 13.620452179345683, Prediction: [[136.20452179]], Error: 7021.682167863253\n",
      "Iteration 129. Weight: 13.720452179345683, Prediction: [[137.20452179]], Error: 6855.091211450167\n",
      "Iteration 130. Weight: 13.820452179345683, Prediction: [[138.20452179]], Error: 6690.50025503708\n",
      "Iteration 131. Weight: 13.920452179345682, Prediction: [[139.20452179]], Error: 6527.909298623994\n",
      "Iteration 132. Weight: 14.020452179345682, Prediction: [[140.20452179]], Error: 6367.318342210908\n",
      "Iteration 133. Weight: 14.120452179345682, Prediction: [[141.20452179]], Error: 6208.727385797822\n",
      "Iteration 134. Weight: 14.220452179345681, Prediction: [[142.20452179]], Error: 6052.136429384735\n",
      "Iteration 135. Weight: 14.320452179345681, Prediction: [[143.20452179]], Error: 5897.545472971648\n",
      "Iteration 136. Weight: 14.42045217934568, Prediction: [[144.20452179]], Error: 5744.954516558562\n",
      "Iteration 137. Weight: 14.52045217934568, Prediction: [[145.20452179]], Error: 5594.36356014548\n",
      "Iteration 138. Weight: 14.62045217934568, Prediction: [[146.20452179]], Error: 5445.772603732394\n",
      "Iteration 139. Weight: 14.72045217934568, Prediction: [[147.20452179]], Error: 5299.181647319308\n",
      "Iteration 140. Weight: 14.82045217934568, Prediction: [[148.20452179]], Error: 5154.5906909062205\n",
      "Iteration 141. Weight: 14.920452179345679, Prediction: [[149.20452179]], Error: 5011.999734493134\n",
      "Iteration 142. Weight: 15.020452179345678, Prediction: [[150.20452179]], Error: 4871.408778080048\n",
      "Iteration 143. Weight: 15.120452179345678, Prediction: [[151.20452179]], Error: 4732.817821666961\n",
      "Iteration 144. Weight: 15.220452179345678, Prediction: [[152.20452179]], Error: 4596.226865253879\n",
      "Iteration 145. Weight: 15.320452179345677, Prediction: [[153.20452179]], Error: 4461.635908840793\n",
      "Iteration 146. Weight: 15.420452179345677, Prediction: [[154.20452179]], Error: 4329.044952427706\n",
      "Iteration 147. Weight: 15.520452179345677, Prediction: [[155.20452179]], Error: 4198.453996014619\n",
      "Iteration 148. Weight: 15.620452179345676, Prediction: [[156.20452179]], Error: 4069.8630396015333\n",
      "Iteration 149. Weight: 15.720452179345676, Prediction: [[157.20452179]], Error: 3943.2720831884467\n",
      "Iteration 150. Weight: 15.820452179345676, Prediction: [[158.20452179]], Error: 3818.68112677536\n",
      "Iteration 151. Weight: 15.920452179345675, Prediction: [[159.20452179]], Error: 3696.0901703622735\n",
      "Iteration 152. Weight: 16.020452179345675, Prediction: [[160.20452179]], Error: 3575.4992139491874\n",
      "Iteration 153. Weight: 16.120452179345676, Prediction: [[161.20452179]], Error: 3456.908257536101\n",
      "Iteration 154. Weight: 16.220452179345678, Prediction: [[162.20452179]], Error: 3340.317301123014\n",
      "Iteration 155. Weight: 16.32045217934568, Prediction: [[163.20452179]], Error: 3225.7263447099244\n",
      "Iteration 156. Weight: 16.42045217934568, Prediction: [[164.20452179]], Error: 3113.135388296835\n",
      "Iteration 157. Weight: 16.520452179345682, Prediction: [[165.20452179]], Error: 3002.5444318837485\n",
      "Iteration 158. Weight: 16.620452179345683, Prediction: [[166.20452179]], Error: 2893.9534754706624\n",
      "Iteration 159. Weight: 16.720452179345685, Prediction: [[167.20452179]], Error: 2787.362519057573\n",
      "Iteration 160. Weight: 16.820452179345686, Prediction: [[168.20452179]], Error: 2682.7715626444838\n",
      "Iteration 161. Weight: 16.920452179345688, Prediction: [[169.20452179]], Error: 2580.180606231397\n",
      "Iteration 162. Weight: 17.02045217934569, Prediction: [[170.20452179]], Error: 2479.589649818311\n",
      "Iteration 163. Weight: 17.12045217934569, Prediction: [[171.20452179]], Error: 2380.998693405222\n",
      "Iteration 164. Weight: 17.220452179345692, Prediction: [[172.20452179]], Error: 2284.4077369921333\n",
      "Iteration 165. Weight: 17.320452179345693, Prediction: [[173.20452179]], Error: 2189.816780579047\n",
      "Iteration 166. Weight: 17.420452179345695, Prediction: [[174.20452179]], Error: 2097.225824165961\n",
      "Iteration 167. Weight: 17.520452179345696, Prediction: [[175.20452179]], Error: 2006.6348677528722\n",
      "Iteration 168. Weight: 17.620452179345698, Prediction: [[176.20452179]], Error: 1918.0439113397838\n",
      "Iteration 169. Weight: 17.7204521793457, Prediction: [[177.20452179]], Error: 1831.4529549266977\n",
      "Iteration 170. Weight: 17.8204521793457, Prediction: [[178.20452179]], Error: 1746.8619985136118\n",
      "Iteration 171. Weight: 17.920452179345702, Prediction: [[179.20452179]], Error: 1664.2710421005233\n",
      "Iteration 172. Weight: 18.020452179345703, Prediction: [[180.20452179]], Error: 1583.6800856874352\n",
      "Iteration 173. Weight: 18.120452179345705, Prediction: [[181.20452179]], Error: 1505.0891292743493\n",
      "Iteration 174. Weight: 18.220452179345706, Prediction: [[182.20452179]], Error: 1428.4981728612634\n",
      "Iteration 175. Weight: 18.320452179345708, Prediction: [[183.20452179]], Error: 1353.9072164481754\n",
      "Iteration 176. Weight: 18.42045217934571, Prediction: [[184.20452179]], Error: 1281.3162600350875\n",
      "Iteration 177. Weight: 18.52045217934571, Prediction: [[185.20452179]], Error: 1210.7253036220015\n",
      "Iteration 178. Weight: 18.620452179345712, Prediction: [[186.20452179]], Error: 1142.1343472089159\n",
      "Iteration 179. Weight: 18.720452179345713, Prediction: [[187.20452179]], Error: 1075.5433907958281\n",
      "Iteration 180. Weight: 18.820452179345715, Prediction: [[188.20452179]], Error: 1010.9524343827406\n",
      "Iteration 181. Weight: 18.920452179345716, Prediction: [[189.20452179]], Error: 948.361477969655\n",
      "Iteration 182. Weight: 19.020452179345718, Prediction: [[190.20452179]], Error: 887.7705215565693\n",
      "Iteration 183. Weight: 19.12045217934572, Prediction: [[191.20452179]], Error: 829.1795651434819\n",
      "Iteration 184. Weight: 19.22045217934572, Prediction: [[192.20452179]], Error: 772.5886087303948\n",
      "Iteration 185. Weight: 19.320452179345722, Prediction: [[193.20452179]], Error: 717.9976523173092\n",
      "Iteration 186. Weight: 19.420452179345723, Prediction: [[194.20452179]], Error: 665.4066959042236\n",
      "Iteration 187. Weight: 19.520452179345725, Prediction: [[195.20452179]], Error: 614.8157394911367\n",
      "Iteration 188. Weight: 19.620452179345726, Prediction: [[196.20452179]], Error: 566.2247830780498\n",
      "Iteration 189. Weight: 19.720452179345727, Prediction: [[197.20452179]], Error: 519.6338266649643\n",
      "Iteration 190. Weight: 19.82045217934573, Prediction: [[198.20452179]], Error: 475.04287025187887\n",
      "Iteration 191. Weight: 19.92045217934573, Prediction: [[199.20452179]], Error: 432.4519138387923\n",
      "Iteration 192. Weight: 20.02045217934573, Prediction: [[200.20452179]], Error: 391.86095742570575\n",
      "Iteration 193. Weight: 20.120452179345733, Prediction: [[201.20452179]], Error: 353.2700010126204\n",
      "Iteration 194. Weight: 20.220452179345735, Prediction: [[202.20452179]], Error: 316.6790445995351\n",
      "Iteration 195. Weight: 20.320452179345736, Prediction: [[203.20452179]], Error: 282.0880881864488\n",
      "Iteration 196. Weight: 20.420452179345737, Prediction: [[204.20452179]], Error: 249.4971317733626\n",
      "Iteration 197. Weight: 20.52045217934574, Prediction: [[205.20452179]], Error: 218.9061753602774\n",
      "Iteration 198. Weight: 20.62045217934574, Prediction: [[206.20452179]], Error: 190.31521894719216\n",
      "Iteration 199. Weight: 20.72045217934574, Prediction: [[207.20452179]], Error: 163.7242625341062\n",
      "Iteration 200. Weight: 20.820452179345743, Prediction: [[208.20452179]], Error: 139.13330612102035\n",
      "Iteration 201. Weight: 20.920452179345745, Prediction: [[209.20452179]], Error: 116.54234970793526\n",
      "Iteration 202. Weight: 21.020452179345746, Prediction: [[210.20452179]], Error: 95.95139329485015\n",
      "Iteration 203. Weight: 21.120452179345747, Prediction: [[211.20452179]], Error: 77.36043688176454\n",
      "Iteration 204. Weight: 21.22045217934575, Prediction: [[212.20452179]], Error: 60.76948046867904\n",
      "Iteration 205. Weight: 21.32045217934575, Prediction: [[213.20452179]], Error: 46.178524055594046\n",
      "Iteration 206. Weight: 21.42045217934575, Prediction: [[214.20452179]], Error: 33.58756764250905\n",
      "Iteration 207. Weight: 21.520452179345753, Prediction: [[215.20452179]], Error: 22.99661122942378\n",
      "Iteration 208. Weight: 21.620452179345754, Prediction: [[216.20452179]], Error: 14.405654816338625\n",
      "Iteration 209. Weight: 21.720452179345756, Prediction: [[217.20452179]], Error: 7.814698403253742\n",
      "Iteration 210. Weight: 21.820452179345757, Prediction: [[218.20452179]], Error: 3.2237419901688606\n",
      "Iteration 211. Weight: 21.92045217934576, Prediction: [[219.20452179]], Error: 0.6327855770839333\n",
      "Iteration 212. Weight: 22.02045217934576, Prediction: [[220.20452179]], Error: 0.04182916399911965\n",
      "Iteration 213. Weight: 21.92045217934576, Prediction: [[219.20452179]], Error: 0.6327855770839333\n",
      "Iteration 214. Weight: 22.02045217934576, Prediction: [[220.20452179]], Error: 0.04182916399911965\n",
      "Iteration 215. Weight: 21.92045217934576, Prediction: [[219.20452179]], Error: 0.6327855770839333\n",
      "Iteration 216. Weight: 22.02045217934576, Prediction: [[220.20452179]], Error: 0.04182916399911965\n",
      "Iteration 217. Weight: 21.92045217934576, Prediction: [[219.20452179]], Error: 0.6327855770839333\n",
      "Iteration 218. Weight: 22.02045217934576, Prediction: [[220.20452179]], Error: 0.04182916399911965\n",
      "Iteration 219. Weight: 21.92045217934576, Prediction: [[219.20452179]], Error: 0.6327855770839333\n"
     ]
    }
   ],
   "source": [
    "# we'll be using hot-cold method \n",
    "# change weight a little, up and down, and see which way reduces error\n",
    "\n",
    "def learn_step(w, inp, goal, learning_rate=0.1):\n",
    "    lr = learning_rate\n",
    "    def get_err(w):\n",
    "        return ((inp * w - goal) ** 2).sum()\n",
    "    \n",
    "    err = get_err(w)\n",
    "    err_up = get_err(w + lr)\n",
    "    err_down = get_err(w - lr)\n",
    "    \n",
    "    if err_up < err_down:\n",
    "        w = w + lr\n",
    "        err = err_up\n",
    "    \n",
    "    else: \n",
    "      w = w - lr\n",
    "      err = err_down\n",
    "\n",
    "    return w, inp * w, err\n",
    "\n",
    "\n",
    "# let's learn! if everything is OK, error should decrease.\n",
    "preds = []\n",
    "w, pred, err = learn_step(w_init, input_pix, target_pix)\n",
    "for i in range(220):\n",
    "    w, pred, err = learn_step(w, input_pix, target_pix)\n",
    "    preds.append(pred)\n",
    "    print(\"Iteration {}. Weight: {}, Prediction: {}, Error: {}\".format(i, w, pred, err))\n"
   ]
  },
  {
   "cell_type": "code",
   "execution_count": 9,
   "metadata": {
    "colab": {
     "base_uri": "https://localhost:8080/",
     "height": 273
    },
    "colab_type": "code",
    "id": "q0ZnR5lQtP6-",
    "outputId": "713113b8-6707-4538-b4dd-8f9b9a6403f0"
   },
   "outputs": [
    {
     "data": {
      "image/png": "[encoded data removed]",
      "text/plain": [
       "<PIL.Image.Image image mode=L size=256x256 at 0x7FBFF1A1B4E0>"
      ]
     },
     "execution_count": 9,
     "metadata": {},
     "output_type": "execute_result"
    }
   ],
   "source": [
    "# let's look at our learned pixel:\n",
    "show(pred)  # not bad!"
   ]
  },
  {
   "cell_type": "code",
   "execution_count": 10,
   "metadata": {
    "colab": {
     "base_uri": "https://localhost:8080/",
     "height": 276
    },
    "colab_type": "code",
    "id": "LcL_YwMks4ay",
    "outputId": "79c66ac0-caa8-49c4-cc8d-396b5414188c"
   },
   "outputs": [
    {
     "data": {
      "text/html": [
       "<img src=\"https://i.imgur.com/tY3GksS.gif\">\n"
      ],
      "text/plain": [
       "<IPython.core.display.HTML object>"
      ]
     },
     "execution_count": 10,
     "metadata": {},
     "output_type": "execute_result"
    }
   ],
   "source": [
    "# thats all folks!\n",
    "from IPython.display import HTML\n",
    "\n",
    "HTML(\"\"\"<img src=\"https://i.imgur.com/tY3GksS.gif\">\n",
    "\"\"\")"
   ]
  },
  {
   "cell_type": "code",
   "execution_count": 11,
   "metadata": {},
   "outputs": [],
   "source": [
    "# we can set the initial value of input to 1. \n",
    "# Then apply this algorithm 3 times, to determine red, green, and blue values for output pixel.\n",
    "# we'll call it xy2rgb net.\n"
   ]
  },
  {
   "cell_type": "code",
   "execution_count": 12,
   "metadata": {},
   "outputs": [
    {
     "data": {
      "image/png": "[encoded data removed]",
      "text/plain": [
       "<PIL.Image.Image image mode=RGB size=256x256 at 0x7FBFF1A1BBE0>"
      ]
     },
     "execution_count": 12,
     "metadata": {},
     "output_type": "execute_result"
    }
   ],
   "source": [
    "input = np.array([[[1, 1, 1]]])\n",
    "show(input)"
   ]
  },
  {
   "cell_type": "code",
   "execution_count": 13,
   "metadata": {},
   "outputs": [
    {
     "data": {
      "image/png": "[encoded data removed]",
      "text/plain": [
       "<PIL.Image.Image image mode=RGB size=256x256 at 0x7FBFF1A1B240>"
      ]
     },
     "execution_count": 13,
     "metadata": {},
     "output_type": "execute_result"
    }
   ],
   "source": [
    "target = np.array([[[np.random.randint(0, 255) for _ in range(3)]]])\n",
    "show(target)"
   ]
  },
  {
   "cell_type": "code",
   "execution_count": 14,
   "metadata": {},
   "outputs": [
    {
     "data": {
      "text/plain": [
       "[array([[233]]), array([[149]]), array([[140]])]"
      ]
     },
     "execution_count": 14,
     "metadata": {},
     "output_type": "execute_result"
    }
   ],
   "source": [
    "# learning colourful pixel is like learning 3 different grayscale values\n",
    "def rgb_to_gs(rgb):\n",
    "    return [np.array([[rgb[0][0][i]]]) for i in range(3)]\n",
    "\n",
    "rgb_to_gs(target)"
   ]
  },
  {
   "cell_type": "code",
   "execution_count": 15,
   "metadata": {},
   "outputs": [
    {
     "name": "stdout",
     "output_type": "stream",
     "text": [
      "[[-232.5]]\n",
      "0 [array([[233.]]), 0.5, 0.5] 54056.25 [array([[0.5]]), 1, 1]\n",
      "[[-148.5]]\n",
      "1 [array([[233.]]), array([[149.]]), 0.5] 22052.25 [array([[0.5]]), array([[0.5]]), 1]\n",
      "[[-139.5]]\n",
      "2 [array([[233.]]), array([[149.]]), array([[140.]])] 19460.25 [array([[0.5]]), array([[0.5]]), array([[0.5]])]\n",
      "[[0.]]\n",
      "0 [array([[233.]]), array([[149.]]), array([[140.]])] 0.0 [array([[233.]]), array([[0.5]]), array([[0.5]])]\n",
      "[[0.]]\n",
      "1 [array([[233.]]), array([[149.]]), array([[140.]])] 0.0 [array([[233.]]), array([[149.]]), array([[0.5]])]\n",
      "[[0.]]\n",
      "2 [array([[233.]]), array([[149.]]), array([[140.]])] 0.0 [array([[233.]]), array([[149.]]), array([[140.]])]\n",
      "[[0.]]\n",
      "0 [array([[233.]]), array([[149.]]), array([[140.]])] 0.0 [array([[233.]]), array([[149.]]), array([[140.]])]\n",
      "[[0.]]\n",
      "1 [array([[233.]]), array([[149.]]), array([[140.]])] 0.0 [array([[233.]]), array([[149.]]), array([[140.]])]\n",
      "[[0.]]\n",
      "2 [array([[233.]]), array([[149.]]), array([[140.]])] 0.0 [array([[233.]]), array([[149.]]), array([[140.]])]\n",
      "[[0.]]\n",
      "0 [array([[233.]]), array([[149.]]), array([[140.]])] 0.0 [array([[233.]]), array([[149.]]), array([[140.]])]\n",
      "[[0.]]\n",
      "1 [array([[233.]]), array([[149.]]), array([[140.]])] 0.0 [array([[233.]]), array([[149.]]), array([[140.]])]\n",
      "[[0.]]\n",
      "2 [array([[233.]]), array([[149.]]), array([[140.]])] 0.0 [array([[233.]]), array([[149.]]), array([[140.]])]\n",
      "[[0.]]\n",
      "0 [array([[233.]]), array([[149.]]), array([[140.]])] 0.0 [array([[233.]]), array([[149.]]), array([[140.]])]\n",
      "[[0.]]\n",
      "1 [array([[233.]]), array([[149.]]), array([[140.]])] 0.0 [array([[233.]]), array([[149.]]), array([[140.]])]\n",
      "[[0.]]\n",
      "2 [array([[233.]]), array([[149.]]), array([[140.]])] 0.0 [array([[233.]]), array([[149.]]), array([[140.]])]\n",
      "[[0.]]\n",
      "0 [array([[233.]]), array([[149.]]), array([[140.]])] 0.0 [array([[233.]]), array([[149.]]), array([[140.]])]\n",
      "[[0.]]\n",
      "1 [array([[233.]]), array([[149.]]), array([[140.]])] 0.0 [array([[233.]]), array([[149.]]), array([[140.]])]\n",
      "[[0.]]\n",
      "2 [array([[233.]]), array([[149.]]), array([[140.]])] 0.0 [array([[233.]]), array([[149.]]), array([[140.]])]\n",
      "[[0.]]\n",
      "0 [array([[233.]]), array([[149.]]), array([[140.]])] 0.0 [array([[233.]]), array([[149.]]), array([[140.]])]\n",
      "[[0.]]\n",
      "1 [array([[233.]]), array([[149.]]), array([[140.]])] 0.0 [array([[233.]]), array([[149.]]), array([[140.]])]\n",
      "[[0.]]\n",
      "2 [array([[233.]]), array([[149.]]), array([[140.]])] 0.0 [array([[233.]]), array([[149.]]), array([[140.]])]\n",
      "[[0.]]\n",
      "0 [array([[233.]]), array([[149.]]), array([[140.]])] 0.0 [array([[233.]]), array([[149.]]), array([[140.]])]\n",
      "[[0.]]\n",
      "1 [array([[233.]]), array([[149.]]), array([[140.]])] 0.0 [array([[233.]]), array([[149.]]), array([[140.]])]\n",
      "[[0.]]\n",
      "2 [array([[233.]]), array([[149.]]), array([[140.]])] 0.0 [array([[233.]]), array([[149.]]), array([[140.]])]\n",
      "[[0.]]\n",
      "0 [array([[233.]]), array([[149.]]), array([[140.]])] 0.0 [array([[233.]]), array([[149.]]), array([[140.]])]\n",
      "[[0.]]\n",
      "1 [array([[233.]]), array([[149.]]), array([[140.]])] 0.0 [array([[233.]]), array([[149.]]), array([[140.]])]\n",
      "[[0.]]\n",
      "2 [array([[233.]]), array([[149.]]), array([[140.]])] 0.0 [array([[233.]]), array([[149.]]), array([[140.]])]\n",
      "[[0.]]\n",
      "0 [array([[233.]]), array([[149.]]), array([[140.]])] 0.0 [array([[233.]]), array([[149.]]), array([[140.]])]\n",
      "[[0.]]\n",
      "1 [array([[233.]]), array([[149.]]), array([[140.]])] 0.0 [array([[233.]]), array([[149.]]), array([[140.]])]\n",
      "[[0.]]\n",
      "2 [array([[233.]]), array([[149.]]), array([[140.]])] 0.0 [array([[233.]]), array([[149.]]), array([[140.]])]\n"
     ]
    }
   ],
   "source": [
    "# we'll be optimizing by GRADIENT DESCENT\n",
    "# this means, we want to change the weight by variable step, depending on how big the error is\n",
    "\n",
    "def gradient_descent_step(w, input, target):\n",
    "    pred = input * w\n",
    "    err = ((pred - target) ** 2).sum()\n",
    "    direction_and_amount = (pred - target) * input.sum()\n",
    "    print(direction_and_amount)\n",
    "    w -= direction_and_amount\n",
    "    return w, err, pred\n",
    "\n",
    "w_init = 0.5\n",
    "w = [w_init for _ in range(3)]  # this is a neural network with 1 layer and 3 neurons\n",
    "pred = [1, 1, 1]\n",
    "\n",
    "for _ in range(10):\n",
    "    for i in range(3):\n",
    "        w[i], err, pred[i] = gradient_descent_step(w[i], rgb_to_gs(input)[i], rgb_to_gs(target)[i])\n",
    "        print(i, w, err, pred)    \n"
   ]
  },
  {
   "cell_type": "code",
   "execution_count": 16,
   "metadata": {},
   "outputs": [
    {
     "data": {
      "image/png": "[encoded data removed]",
      "text/plain": [
       "<PIL.Image.Image image mode=RGB size=256x256 at 0x7FBFF1A40F60>"
      ]
     },
     "execution_count": 16,
     "metadata": {},
     "output_type": "execute_result"
    }
   ],
   "source": [
    "show(np.array([[[pred[i][0][0] for i in range(3)]]]))  # wow that converged quickly"
   ]
  },
  {
   "cell_type": "code",
   "execution_count": 17,
   "metadata": {},
   "outputs": [
    {
     "data": {
      "image/png": "[encoded data removed]",
      "text/plain": [
       "<PIL.Image.Image image mode=RGB size=256x256 at 0x7FBFF1A36198>"
      ]
     },
     "execution_count": 17,
     "metadata": {},
     "output_type": "execute_result"
    }
   ],
   "source": [
    "# more pixels\n",
    "\n",
    "def randpix():\n",
    "    return np.array([np.random.randint(0, 255) for _ in range(3)])\n",
    "\n",
    "input4 = np.array([[randpix(), randpix()],[randpix(), randpix()]], dtype='uint8')\n",
    "show(input4)"
   ]
  },
  {
   "cell_type": "code",
   "execution_count": 18,
   "metadata": {},
   "outputs": [
    {
     "data": {
      "image/png": "[encoded data removed]",
      "text/plain": [
       "<PIL.Image.Image image mode=RGB size=256x256 at 0x7FBFF1A3BC18>"
      ]
     },
     "execution_count": 18,
     "metadata": {},
     "output_type": "execute_result"
    }
   ],
   "source": [
    "target4 = np.array([[randpix(), randpix()],[randpix(), randpix()]], dtype='uint8')\n",
    "show(target4)"
   ]
  },
  {
   "cell_type": "code",
   "execution_count": 19,
   "metadata": {},
   "outputs": [
    {
     "data": {
      "text/plain": [
       "array([ 84, 150, 131], dtype=uint8)"
      ]
     },
     "execution_count": 19,
     "metadata": {},
     "output_type": "execute_result"
    }
   ],
   "source": [
    "input4[0][0]"
   ]
  },
  {
   "cell_type": "code",
   "execution_count": 20,
   "metadata": {},
   "outputs": [
    {
     "data": {
      "text/plain": [
       "array([238, 123, 175], dtype=uint8)"
      ]
     },
     "execution_count": 20,
     "metadata": {},
     "output_type": "execute_result"
    }
   ],
   "source": [
    "target4[0][0]"
   ]
  },
  {
   "cell_type": "code",
   "execution_count": 21,
   "metadata": {},
   "outputs": [
    {
     "name": "stdout",
     "output_type": "stream",
     "text": [
      "[[-16464.]]\n",
      "0 [array([[16464.5]]), 0.5, 0.5] 38416.0 [array([[42.]]), 1, 1]\n",
      "[[-7200.]]\n",
      "1 [array([[16464.5]]), array([[7200.5]]), 0.5] 2304.0 [array([[42.]]), array([[75.]]), 1]\n",
      "[[-14344.5]]\n",
      "2 [array([[16464.5]]), array([[7200.5]]), array([[14345.]])] 11990.25 [array([[42.]]), array([[75.]]), array([[65.5]])]\n",
      "[[1.1615352e+08]]\n",
      "0 [array([[-1.16137056e+08]]), array([[7200.5]]), array([[14345.]])] 1912080528400.0 [array([[1383018.]]), array([[75.]]), array([[65.5]])]\n",
      "[[1.619928e+08]]\n",
      "1 [array([[-1.16137056e+08]]), array([[-1.619856e+08]]), array([[14345.]])] 1166296322304.0 [array([[1383018.]]), array([[1080075.]]), array([[65.5]])]\n",
      "[[2.4615162e+08]]\n",
      "2 [array([[-1.16137056e+08]]), array([[-1.619856e+08]]), array([[-2.46137275e+08]])] 3530716160400.0 [array([[1383018.]]), array([[1080075.]]), array([[1879195.]])]\n",
      "[[-8.19463084e+11]]\n",
      "0 [array([[8.19346947e+11]]), array([[-1.619856e+08]]), array([[-2.46137275e+08]])] 9.51700319420664e+19 [array([[-9.75551266e+09]]), array([[1080075.]]), array([[1879195.]])]\n",
      "[[-3.64467601e+12]]\n",
      "1 [array([[8.19346947e+11]]), array([[3.64451402e+12]]), array([[-2.46137275e+08]])] 5.903850309981927e+20 [array([[-9.75551266e+09]]), array([[-2.42978399e+10]]), array([[1879195.]])]\n",
      "[[-4.2239618e+12]]\n",
      "2 [array([[8.19346947e+11]]), array([[3.64451402e+12]]), array([[4.22371566e+12]])] 1.0396744526018823e+21 [array([[-9.75551266e+09]]), array([[-2.42978399e+10]]), array([[-3.2243983e+10]])]\n",
      "[[5.78131205e+15]]\n",
      "0 [array([[-5.78049271e+15]]), array([[3.64451402e+12]]), array([[4.22371566e+12]])] 4.7369003791032697e+27 [array([[6.88251435e+13]]), array([[-2.42978399e+10]]), array([[-3.2243983e+10]])]\n",
      "[[8.20015655e+16]]\n",
      "1 [array([[-5.78049271e+15]]), array([[-8.1997921e+16]]), array([[4.22371566e+12]])] 2.9885585520682515e+29 [array([[6.88251435e+13]]), array([[5.46677103e+14]]), array([[-3.2243983e+10]])]\n",
      "[[7.24831845e+16]]\n",
      "2 [array([[-5.78049271e+15]]), array([[-8.1997921e+16]]), array([[-7.24789608e+16]])] 3.0614836149008483e+29 [array([[6.88251435e+13]]), array([[5.46677103e+14]]), array([[5.53306752e+14]])]\n",
      "[[-4.07871565e+19]]\n",
      "0 [array([[4.07813761e+19]]), array([[-8.1997921e+16]]), array([[-7.24789608e+16]])] 2.3576986099161658e+35 [array([[-4.85561387e+17]]), array([[5.46677103e+14]]), array([[5.53306752e+14]])]\n",
      "[[-1.84495322e+21]]\n",
      "1 [array([[4.07813761e+19]]), array([[1.84487122e+21]]), array([[-7.24789608e+16]])] 1.5128232848382679e+38 [array([[-4.85561387e+17]]), array([[-1.22996881e+19]]), array([[5.53306752e+14]])]\n",
      "[[-1.24381145e+21]]\n",
      "2 [array([[4.07813761e+19]]), array([[1.84487122e+21]]), array([[1.24373897e+21]])] 9.015016095519471e+37 [array([[-4.85561387e+17]]), array([[-1.22996881e+19]]), array([[-9.49474386e+18]])]\n",
      "[[2.87753389e+23]]\n",
      "0 [array([[-2.87712608e+23]]), array([[1.84487122e+21]]), array([[1.24373897e+21]])] 1.1734979185382257e+43 [array([[3.42563559e+21]]), array([[-1.22996881e+19]]), array([[-9.49474386e+18]])]\n",
      "[[4.15096025e+25]]\n",
      "1 [array([[-2.87712608e+23]]), array([[-4.15077577e+25]]), array([[1.24373897e+21]])] 7.657987124143784e+46 [array([[3.42563559e+21]]), array([[2.76730684e+23]]), array([[-9.49474386e+18]])]\n",
      "[[2.13438044e+25]]\n",
      "2 [array([[-2.87712608e+23]]), array([[-4.15077577e+25]]), array([[-2.13425607e+25]])] 2.6546121235767994e+46 [array([[3.42563559e+21]]), array([[2.76730684e+23]]), array([[1.62929805e+23]])]\n",
      "[[-2.03010016e+27]]\n",
      "0 [array([[2.02981245e+27]]), array([[-4.15077577e+25]]), array([[-2.13425607e+25]])] 5.840854123685107e+50 [array([[-2.41678591e+25]]), array([[2.76730684e+23]]), array([[1.62929805e+23]])]\n",
      "[[-9.33924548e+29]]\n",
      "1 [array([[2.02981245e+27]]), array([[9.3388304e+29]]), array([[-2.13425607e+25]])] 3.8765113798351927e+55 [array([[-2.41678591e+25]]), array([[-6.22616365e+27]]), array([[1.62929805e+23]])]\n",
      "[[-3.66259684e+29]]\n",
      "2 [array([[2.02981245e+27]]), array([[9.3388304e+29]]), array([[3.66238341e+29]])] 7.816919517363164e+54 [array([[-2.41678591e+25]]), array([[-6.22616365e+27]]), array([[-2.79587545e+27]])]\n",
      "[[1.43223566e+31]]\n",
      "0 [array([[-1.43203268e+31]]), array([[9.3388304e+29]]), array([[3.66238341e+29]])] 2.90716978319532e+58 [array([[1.70504246e+29]]), array([[-6.22616365e+27]]), array([[-2.79587545e+27]])]\n",
      "[[2.10123684e+34]]\n",
      "1 [array([[-1.43203268e+31]]), array([[-2.10114345e+34]]), array([[3.66238341e+29]])] 1.9623094469059852e+64 [array([[1.70504246e+29]]), array([[1.40082456e+32]]), array([[-2.79587545e+27]])]\n",
      "[[6.28501617e+33]]\n",
      "2 [array([[-1.43203268e+31]]), array([[-2.10114345e+34]]), array([[-6.28464993e+33]])] 2.301813895832055e+63 [array([[1.70504246e+29]]), array([[1.40082456e+32]]), array([[4.79772227e+31]])]\n",
      "[[-1.01044226e+35]]\n",
      "0 [array([[1.01029906e+35]]), array([[-2.10114345e+34]]), array([[-6.28464993e+33]])] 1.4469863429822523e+66 [array([[-1.20290745e+33]]), array([[1.40082456e+32]]), array([[4.79772227e+31]])]\n",
      "[[-4.72757277e+38]]\n",
      "1 [array([[1.01029906e+35]]), array([[4.72736265e+38]]), array([[-6.28464993e+33]])] 9.933308555333537e+72 [array([[-1.20290745e+33]]), array([[-3.15171518e+36]]), array([[4.79772227e+31]])]\n",
      "[[-1.07850877e+38]]\n",
      "2 [array([[1.01029906e+35]]), array([[4.72736265e+38]]), array([[1.07844593e+38]])] 6.778050099245237e+71 [array([[-1.20290745e+33]]), array([[-3.15171518e+36]]), array([[-8.23289141e+35]])]\n",
      "[[7.12867015e+38]]\n",
      "0 [array([[-7.12765986e+38]]), array([[4.72736265e+38]]), array([[1.07844593e+38]])] 7.202088742391423e+73 [array([[8.48651209e+36]]), array([[-3.15171518e+36]]), array([[-8.23289141e+35]])]\n",
      "[[1.0636566e+43]]\n",
      "1 [array([[-7.12765986e+38]]), array([[-1.06360932e+43]]), array([[1.07844593e+38]])] 5.028290467185921e+81 [array([[8.48651209e+36]]), array([[7.09104398e+40]]), array([[-8.23289141e+35]])]\n",
      "[[1.85072106e+42]]\n",
      "2 [array([[-7.12765986e+38]]), array([[-1.06360932e+43]]), array([[-1.85061321e+42]])] 1.9959025893043087e+80 [array([[8.48651209e+36]]), array([[7.09104398e+40]]), array([[1.41276417e+40]])]\n"
     ]
    },
    {
     "data": {
      "text/plain": [
       "[array([[-7.12765986e+38]]),\n",
       " array([[-1.06360932e+43]]),\n",
       " array([[-1.85061321e+42]])]"
      ]
     },
     "execution_count": 21,
     "metadata": {},
     "output_type": "execute_result"
    }
   ],
   "source": [
    "# this is basically doing the same thing as the last time, for each pixel.\n",
    "\n",
    "def optimize_pixel(input, target, steps=10):\n",
    "    w_init = 0.5\n",
    "    w = [w_init for _ in range(3)]  # this is a neural network with 1 layer and 3 neurons\n",
    "    pred = [1, 1, 1]\n",
    "\n",
    "    for _ in range(steps):\n",
    "        for i in range(3):\n",
    "            w[i], err, pred[i] = gradient_descent_step(w[i], rgb_to_gs(input)[i], rgb_to_gs(target)[i])\n",
    "            print(i, w, err, pred)\n",
    "    return w\n",
    "\n",
    "optimize_pixel([[input4[0][0]]], [[target4[0][0]]])\n",
    "# why does it not converge? "
   ]
  },
  {
   "cell_type": "code",
   "execution_count": 33,
   "metadata": {},
   "outputs": [
    {
     "name": "stdout",
     "output_type": "stream",
     "text": [
      "[[-237.5]]\n",
      "0 [array([[238.]]), 0.5, 0.5] 56406.25 [array([[0.5]]), 1, 1]\n",
      "[[-122.5]]\n",
      "1 [array([[238.]]), array([[123.]]), 0.5] 15006.25 [array([[0.5]]), array([[0.5]]), 1]\n",
      "[[-174.5]]\n",
      "2 [array([[238.]]), array([[123.]]), array([[175.]])] 30450.25 [array([[0.5]]), array([[0.5]]), array([[0.5]])]\n",
      "[[0.]]\n",
      "0 [array([[238.]]), array([[123.]]), array([[175.]])] 0.0 [array([[238.]]), array([[0.5]]), array([[0.5]])]\n",
      "[[0.]]\n",
      "1 [array([[238.]]), array([[123.]]), array([[175.]])] 0.0 [array([[238.]]), array([[123.]]), array([[0.5]])]\n",
      "[[0.]]\n",
      "2 [array([[238.]]), array([[123.]]), array([[175.]])] 0.0 [array([[238.]]), array([[123.]]), array([[175.]])]\n",
      "[[0.]]\n",
      "0 [array([[238.]]), array([[123.]]), array([[175.]])] 0.0 [array([[238.]]), array([[123.]]), array([[175.]])]\n",
      "[[0.]]\n",
      "1 [array([[238.]]), array([[123.]]), array([[175.]])] 0.0 [array([[238.]]), array([[123.]]), array([[175.]])]\n",
      "[[0.]]\n",
      "2 [array([[238.]]), array([[123.]]), array([[175.]])] 0.0 [array([[238.]]), array([[123.]]), array([[175.]])]\n",
      "[[0.]]\n",
      "0 [array([[238.]]), array([[123.]]), array([[175.]])] 0.0 [array([[238.]]), array([[123.]]), array([[175.]])]\n",
      "[[0.]]\n",
      "1 [array([[238.]]), array([[123.]]), array([[175.]])] 0.0 [array([[238.]]), array([[123.]]), array([[175.]])]\n",
      "[[0.]]\n",
      "2 [array([[238.]]), array([[123.]]), array([[175.]])] 0.0 [array([[238.]]), array([[123.]]), array([[175.]])]\n",
      "[[0.]]\n",
      "0 [array([[238.]]), array([[123.]]), array([[175.]])] 0.0 [array([[238.]]), array([[123.]]), array([[175.]])]\n",
      "[[0.]]\n",
      "1 [array([[238.]]), array([[123.]]), array([[175.]])] 0.0 [array([[238.]]), array([[123.]]), array([[175.]])]\n",
      "[[0.]]\n",
      "2 [array([[238.]]), array([[123.]]), array([[175.]])] 0.0 [array([[238.]]), array([[123.]]), array([[175.]])]\n",
      "[[0.]]\n",
      "0 [array([[238.]]), array([[123.]]), array([[175.]])] 0.0 [array([[238.]]), array([[123.]]), array([[175.]])]\n",
      "[[0.]]\n",
      "1 [array([[238.]]), array([[123.]]), array([[175.]])] 0.0 [array([[238.]]), array([[123.]]), array([[175.]])]\n",
      "[[0.]]\n",
      "2 [array([[238.]]), array([[123.]]), array([[175.]])] 0.0 [array([[238.]]), array([[123.]]), array([[175.]])]\n",
      "[[0.]]\n",
      "0 [array([[238.]]), array([[123.]]), array([[175.]])] 0.0 [array([[238.]]), array([[123.]]), array([[175.]])]\n",
      "[[0.]]\n",
      "1 [array([[238.]]), array([[123.]]), array([[175.]])] 0.0 [array([[238.]]), array([[123.]]), array([[175.]])]\n",
      "[[0.]]\n",
      "2 [array([[238.]]), array([[123.]]), array([[175.]])] 0.0 [array([[238.]]), array([[123.]]), array([[175.]])]\n",
      "[[0.]]\n",
      "0 [array([[238.]]), array([[123.]]), array([[175.]])] 0.0 [array([[238.]]), array([[123.]]), array([[175.]])]\n",
      "[[0.]]\n",
      "1 [array([[238.]]), array([[123.]]), array([[175.]])] 0.0 [array([[238.]]), array([[123.]]), array([[175.]])]\n",
      "[[0.]]\n",
      "2 [array([[238.]]), array([[123.]]), array([[175.]])] 0.0 [array([[238.]]), array([[123.]]), array([[175.]])]\n",
      "[[0.]]\n",
      "0 [array([[238.]]), array([[123.]]), array([[175.]])] 0.0 [array([[238.]]), array([[123.]]), array([[175.]])]\n",
      "[[0.]]\n",
      "1 [array([[238.]]), array([[123.]]), array([[175.]])] 0.0 [array([[238.]]), array([[123.]]), array([[175.]])]\n",
      "[[0.]]\n",
      "2 [array([[238.]]), array([[123.]]), array([[175.]])] 0.0 [array([[238.]]), array([[123.]]), array([[175.]])]\n",
      "[[0.]]\n",
      "0 [array([[238.]]), array([[123.]]), array([[175.]])] 0.0 [array([[238.]]), array([[123.]]), array([[175.]])]\n",
      "[[0.]]\n",
      "1 [array([[238.]]), array([[123.]]), array([[175.]])] 0.0 [array([[238.]]), array([[123.]]), array([[175.]])]\n",
      "[[0.]]\n",
      "2 [array([[238.]]), array([[123.]]), array([[175.]])] 0.0 [array([[238.]]), array([[123.]]), array([[175.]])]\n"
     ]
    }
   ],
   "source": [
    "# lets set the input to be small\n",
    "corrected_input4 = input4 / input4 \n",
    "\n",
    "w4_00 = optimize_pixel([[corrected_input4[0][0]]], [[target4[0][0]]])\n",
    "# now it converges!"
   ]
  },
  {
   "cell_type": "code",
   "execution_count": 54,
   "metadata": {},
   "outputs": [],
   "source": [
    "def unnest(nested):\n",
    "    return np.array([i[0][0] for i in nested])\n",
    "    \n",
    "def optimize4(input, target):\n",
    "    return [[unnest(optimize_pixel([[input[j, i]]], [[target[j, i]]], steps=1)) for i in (0, 1)] for j in (0, 1)]"
   ]
  },
  {
   "cell_type": "code",
   "execution_count": 63,
   "metadata": {},
   "outputs": [
    {
     "name": "stdout",
     "output_type": "stream",
     "text": [
      "[[-237.5]]\n",
      "0 [array([[238.]]), 0.5, 0.5] 56406.25 [array([[0.5]]), 1, 1]\n",
      "[[-122.5]]\n",
      "1 [array([[238.]]), array([[123.]]), 0.5] 15006.25 [array([[0.5]]), array([[0.5]]), 1]\n",
      "[[-174.5]]\n",
      "2 [array([[238.]]), array([[123.]]), array([[175.]])] 30450.25 [array([[0.5]]), array([[0.5]]), array([[0.5]])]\n",
      "[[-210.5]]\n",
      "0 [array([[211.]]), 0.5, 0.5] 44310.25 [array([[0.5]]), 1, 1]\n",
      "[[-204.5]]\n",
      "1 [array([[211.]]), array([[205.]]), 0.5] 41820.25 [array([[0.5]]), array([[0.5]]), 1]\n",
      "[[-146.5]]\n",
      "2 [array([[211.]]), array([[205.]]), array([[147.]])] 21462.25 [array([[0.5]]), array([[0.5]]), array([[0.5]])]\n",
      "[[-98.5]]\n",
      "0 [array([[99.]]), 0.5, 0.5] 9702.25 [array([[0.5]]), 1, 1]\n",
      "[[-211.5]]\n",
      "1 [array([[99.]]), array([[212.]]), 0.5] 44732.25 [array([[0.5]]), array([[0.5]]), 1]\n",
      "[[-240.5]]\n",
      "2 [array([[99.]]), array([[212.]]), array([[241.]])] 57840.25 [array([[0.5]]), array([[0.5]]), array([[0.5]])]\n",
      "[[-178.5]]\n",
      "0 [array([[179.]]), 0.5, 0.5] 31862.25 [array([[0.5]]), 1, 1]\n",
      "[[-35.5]]\n",
      "1 [array([[179.]]), array([[36.]]), 0.5] 1260.25 [array([[0.5]]), array([[0.5]]), 1]\n",
      "[[-98.5]]\n",
      "2 [array([[179.]]), array([[36.]]), array([[99.]])] 9702.25 [array([[0.5]]), array([[0.5]]), array([[0.5]])]\n"
     ]
    }
   ],
   "source": [
    "w4 = optimize4(corrected_input4, target4)"
   ]
  },
  {
   "cell_type": "code",
   "execution_count": 58,
   "metadata": {},
   "outputs": [
    {
     "data": {
      "image/png": "[encoded data removed]",
      "text/plain": [
       "<PIL.Image.Image image mode=RGB size=256x256 at 0x7FBFF19D1DD8>"
      ]
     },
     "execution_count": 58,
     "metadata": {},
     "output_type": "execute_result"
    }
   ],
   "source": [
    "show(corrected_input4)"
   ]
  },
  {
   "cell_type": "code",
   "execution_count": 59,
   "metadata": {},
   "outputs": [
    {
     "data": {
      "image/png": "[encoded data removed]",
      "text/plain": [
       "<PIL.Image.Image image mode=RGB size=256x256 at 0x7FBFF19D1F60>"
      ]
     },
     "execution_count": 59,
     "metadata": {},
     "output_type": "execute_result"
    }
   ],
   "source": [
    "show(target4)"
   ]
  },
  {
   "cell_type": "code",
   "execution_count": 66,
   "metadata": {},
   "outputs": [
    {
     "data": {
      "image/png": "[encoded data removed]",
      "text/plain": [
       "<PIL.Image.Image image mode=RGB size=256x256 at 0x7FBFF19E60F0>"
      ]
     },
     "execution_count": 66,
     "metadata": {},
     "output_type": "execute_result"
    }
   ],
   "source": [
    "show(corrected_input4 * w4 )\n",
    "# wow, it converges in one step."
   ]
  },
  {
   "cell_type": "code",
   "execution_count": 91,
   "metadata": {},
   "outputs": [],
   "source": [
    "# just testing if I've memorized the gradient descent alg\n",
    "def gd(input, target, w=0.5, a=0.1):\n",
    "    pred = input*w\n",
    "    error = (target-pred) ** 2\n",
    "    \n",
    "    derivative = input * (target-pred)\n",
    "    delta = a * derivative\n",
    "    w += delta\n",
    "    return w"
   ]
  },
  {
   "cell_type": "code",
   "execution_count": 95,
   "metadata": {},
   "outputs": [
    {
     "name": "stdout",
     "output_type": "stream",
     "text": [
      "10.0 100.0\n",
      "10.0 100.0\n",
      "10.0 100.0\n",
      "10.0 100.0\n",
      "10.0 100.0\n",
      "10.0 100.0\n",
      "10.0 100.0\n",
      "10.0 100.0\n",
      "10.0 100.0\n",
      "10.0 100.0\n"
     ]
    }
   ],
   "source": [
    "w = gd(1, 100)\n",
    "for _ in range(10):\n",
    "    w = gd(10, 100, w, a=0.01)\n",
    "    print(w, w*10)"
   ]
  }
 ],
 "metadata": {
  "colab": {
   "collapsed_sections": [],
   "name": "dumbnet.ipynb",
   "provenance": []
  },
  "kernelspec": {
   "display_name": "Python 3",
   "language": "python",
   "name": "python3"
  },
  "language_info": {
   "codemirror_mode": {
    "name": "ipython",
    "version": 3
   },
   "file_extension": ".py",
   "mimetype": "text/x-python",
   "name": "python",
   "nbconvert_exporter": "python",
   "pygments_lexer": "ipython3",
   "version": "3.6.8"
  }
 },
 "nbformat": 4,
 "nbformat_minor": 1
}
